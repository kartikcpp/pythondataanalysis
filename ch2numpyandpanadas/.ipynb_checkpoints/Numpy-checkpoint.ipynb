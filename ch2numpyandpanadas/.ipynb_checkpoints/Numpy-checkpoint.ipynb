{
 "cells": [
  {
   "cell_type": "markdown",
   "id": "1734ae86",
   "metadata": {},
   "source": [
    "# Possible data types are bool, int, float, long, double, and long double.\n",
    "\n"
   ]
  },
  {
   "cell_type": "code",
   "execution_count": 2,
   "id": "50da6c34",
   "metadata": {},
   "outputs": [],
   "source": [
    "import numpy as np"
   ]
  },
  {
   "cell_type": "code",
   "execution_count": 3,
   "id": "6232a16e",
   "metadata": {},
   "outputs": [],
   "source": [
    "# numpy arrays"
   ]
  },
  {
   "cell_type": "code",
   "execution_count": 4,
   "id": "ee389e6f",
   "metadata": {},
   "outputs": [
    {
     "name": "stdout",
     "output_type": "stream",
     "text": [
      "[ 2  4  6  8 10]\n"
     ]
    }
   ],
   "source": [
    "# creating arrays\n",
    "a=np.array([2,4,6,8,10])\n",
    "print(a)"
   ]
  },
  {
   "cell_type": "code",
   "execution_count": 5,
   "id": "88442eb5",
   "metadata": {},
   "outputs": [
    {
     "name": "stdout",
     "output_type": "stream",
     "text": [
      "[ 1  2  3  4  5  6  7  8  9 10]\n"
     ]
    }
   ],
   "source": [
    "# another way to create an array using arrange()\n",
    "a=np.arange(1,11)\n",
    "print(a) # not arrange arange and step is by default 1\n",
    "# generral form of arnage(start,[stop],step)\n",
    "#The stop parameteris compulsory"
   ]
  },
  {
   "cell_type": "code",
   "execution_count": 6,
   "id": "4ee71d90",
   "metadata": {},
   "outputs": [],
   "source": [
    "# apart from array and arange,there are other options such as \n",
    "#zeros()-->creates an array for a given dimension wih all zeroes\n",
    "\n",
    "#ones()--> ,,,,,,,,,,,,,,,,,,,,,,,,,,,,,,,,,,,,,,,,,,,,,,all ones\n",
    "#fulls()-->generae an array with constant values\n",
    "\n",
    "#random()---> crates na array with any given dimenion\n",
    "\n",
    "# eyes()--->create ana identity matrix"
   ]
  },
  {
   "cell_type": "code",
   "execution_count": 7,
   "id": "3513d81c",
   "metadata": {},
   "outputs": [
    {
     "data": {
      "text/plain": [
       "array([[0., 0.],\n",
       "       [0., 0.]])"
      ]
     },
     "execution_count": 7,
     "metadata": {},
     "output_type": "execute_result"
    }
   ],
   "source": [
    "\n",
    "np.zeros((2,2))"
   ]
  },
  {
   "cell_type": "code",
   "execution_count": 8,
   "id": "bd476588",
   "metadata": {},
   "outputs": [
    {
     "data": {
      "text/plain": [
       "array([[1., 1., 1., 1.],\n",
       "       [1., 1., 1., 1.],\n",
       "       [1., 1., 1., 1.],\n",
       "       [1., 1., 1., 1.]])"
      ]
     },
     "execution_count": 8,
     "metadata": {},
     "output_type": "execute_result"
    }
   ],
   "source": [
    "np.ones((4,4))"
   ]
  },
  {
   "cell_type": "code",
   "execution_count": 9,
   "id": "1a1a43ec",
   "metadata": {},
   "outputs": [
    {
     "data": {
      "text/plain": [
       "array([[11, 11, 11, 11, 11, 11],\n",
       "       [11, 11, 11, 11, 11, 11],\n",
       "       [11, 11, 11, 11, 11, 11],\n",
       "       [11, 11, 11, 11, 11, 11],\n",
       "       [11, 11, 11, 11, 11, 11],\n",
       "       [11, 11, 11, 11, 11, 11]])"
      ]
     },
     "execution_count": 9,
     "metadata": {},
     "output_type": "execute_result"
    }
   ],
   "source": [
    "np.full((6,6),11)"
   ]
  },
  {
   "cell_type": "code",
   "execution_count": 10,
   "id": "2637b1bd",
   "metadata": {},
   "outputs": [
    {
     "data": {
      "text/plain": [
       "array([[1., 0., 0., 0., 0., 0., 0.],\n",
       "       [0., 1., 0., 0., 0., 0., 0.],\n",
       "       [0., 0., 1., 0., 0., 0., 0.],\n",
       "       [0., 0., 0., 1., 0., 0., 0.],\n",
       "       [0., 0., 0., 0., 1., 0., 0.],\n",
       "       [0., 0., 0., 0., 0., 1., 0.],\n",
       "       [0., 0., 0., 0., 0., 0., 1.]])"
      ]
     },
     "execution_count": 10,
     "metadata": {},
     "output_type": "execute_result"
    }
   ],
   "source": [
    "np.eye(7)"
   ]
  },
  {
   "cell_type": "code",
   "execution_count": 11,
   "id": "9e2b17de",
   "metadata": {},
   "outputs": [
    {
     "data": {
      "text/plain": [
       "array([[0.83551618, 0.39897482, 0.10705874],\n",
       "       [0.67551187, 0.05483486, 0.9216072 ],\n",
       "       [0.56377563, 0.80314609, 0.96154034]])"
      ]
     },
     "execution_count": 11,
     "metadata": {},
     "output_type": "execute_result"
    }
   ],
   "source": [
    "np.random.random((3,3)) # with values ranging from 0 to1"
   ]
  },
  {
   "cell_type": "markdown",
   "id": "646c2fe2",
   "metadata": {},
   "source": [
    "In the preceding code, we have seen some built-in functions for creating arrays with allzero values, all-one values, and all-constant values. After that, we have created the identity\n",
    "matrix using the eye() function and a random matrix using the random.random()\n",
    "function. Let's see some other array features in the next section."
   ]
  },
  {
   "cell_type": "markdown",
   "id": "0261e143",
   "metadata": {},
   "source": [
    "# array features"
   ]
  },
  {
   "cell_type": "markdown",
   "id": "040aef27",
   "metadata": {},
   "source": [
    " #  NumPy arrays are a homogeneous kind of data structure that has the same types of items."
   ]
  },
  {
   "cell_type": "markdown",
   "id": "5d204779",
   "metadata": {},
   "source": [
    "## Another benefit of NumPy arrays is to offer vectorized operations instead of\n",
    "## iterating each item and performing operations on it. NumPy arrays are indexed just like a\n",
    "## Python list and start from 0. NumPy uses an optimized C API for the fast processing of the\n",
    "## array operations.\n"
   ]
  },
  {
   "cell_type": "code",
   "execution_count": 12,
   "id": "c32fb8d1",
   "metadata": {},
   "outputs": [
    {
     "name": "stdout",
     "output_type": "stream",
     "text": [
      "<class 'numpy.ndarray'>\n",
      "int32\n"
     ]
    }
   ],
   "source": [
    "a=np.arange(1,11)\n",
    "print(type(a))\n",
    "print(a.dtype)"
   ]
  },
  {
   "cell_type": "markdown",
   "id": "48c2f49e",
   "metadata": {},
   "source": [
    "# When you use type(), it returns numpy.ndarray. This means that the type() function\n",
    "# returns the type of the container. When you use dtype(), it will return int64, since it is\n",
    "# the type of the elements. You may also get the output as int32 if you are using 32-bit\n",
    "# Python. Both cases use integers (32- and 64-bit). One-dimensional NumPy arrays are also\n",
    "# known as vectors"
   ]
  },
  {
   "cell_type": "code",
   "execution_count": 13,
   "id": "a7c012fb",
   "metadata": {},
   "outputs": [
    {
     "name": "stdout",
     "output_type": "stream",
     "text": [
      "(10,)\n"
     ]
    }
   ],
   "source": [
    "# Shape of the vector\n",
    "print(a.shape)\n",
    "\n",
    "# the vector has 10 elements with values ranging from 1 to 10. The shape\n",
    "#property of the array is a tuple; in this instance, it is a tuple of one element, which holds the\n",
    "#length in each dimension"
   ]
  },
  {
   "cell_type": "markdown",
   "id": "b24f9cd0",
   "metadata": {},
   "source": [
    "# Selecting array elements"
   ]
  },
  {
   "cell_type": "code",
   "execution_count": 14,
   "id": "5d213dda",
   "metadata": {},
   "outputs": [],
   "source": [
    "a=np.array([[5,6],[8,9]])"
   ]
  },
  {
   "cell_type": "code",
   "execution_count": 15,
   "id": "cf8b6899",
   "metadata": {},
   "outputs": [
    {
     "name": "stdout",
     "output_type": "stream",
     "text": [
      "[[5 6]\n",
      " [8 9]]\n"
     ]
    }
   ],
   "source": [
    "print(a)"
   ]
  },
  {
   "cell_type": "code",
   "execution_count": 16,
   "id": "cb7d7c05",
   "metadata": {},
   "outputs": [],
   "source": [
    "#In the preceding example, the matrix is created using the array() function with the inputlist of lists.\n"
   ]
  },
  {
   "cell_type": "code",
   "execution_count": 17,
   "id": "fe89841e",
   "metadata": {},
   "outputs": [],
   "source": [
    "# a[m,n]\n",
    "#Here, m is the row index and n is the column index of the matrix."
   ]
  },
  {
   "cell_type": "code",
   "execution_count": 18,
   "id": "61177b30",
   "metadata": {},
   "outputs": [
    {
     "name": "stdout",
     "output_type": "stream",
     "text": [
      "5\n"
     ]
    }
   ],
   "source": [
    "print(a[0,0])"
   ]
  },
  {
   "cell_type": "code",
   "execution_count": 19,
   "id": "50c833d7",
   "metadata": {},
   "outputs": [
    {
     "name": "stdout",
     "output_type": "stream",
     "text": [
      "9\n"
     ]
    }
   ],
   "source": [
    "print(a[1,1])"
   ]
  },
  {
   "cell_type": "code",
   "execution_count": 20,
   "id": "6c116352",
   "metadata": {},
   "outputs": [
    {
     "name": "stdout",
     "output_type": "stream",
     "text": [
      "(2, 2)\n"
     ]
    }
   ],
   "source": [
    "print(a.shape)"
   ]
  },
  {
   "cell_type": "code",
   "execution_count": 21,
   "id": "1275bf33",
   "metadata": {},
   "outputs": [],
   "source": [
    " # numpy array numerical data types"
   ]
  },
  {
   "cell_type": "code",
   "execution_count": 22,
   "id": "14cc29c3",
   "metadata": {},
   "outputs": [],
   "source": [
    "# Python offers three types of numerical data types: integer type, float type, and complex type"
   ]
  },
  {
   "cell_type": "code",
   "execution_count": 23,
   "id": "2dd4841f",
   "metadata": {},
   "outputs": [],
   "source": [
    "# NumPy offers a bulk of data types with mathematical types and numbers."
   ]
  },
  {
   "cell_type": "code",
   "execution_count": 24,
   "id": "b01ecca3",
   "metadata": {},
   "outputs": [
    {
     "data": {
      "text/plain": [
       "'\\nData Type Details\\nbool This is a Boolean type that stores a bit and takes True or False\\nvalues.\\ninti Platform integers can be either int32 or int64.\\nint8 Byte store values range from -128 to 127.\\nint16 This stores integers ranging from -32768 to 32767.\\nint32 This stores integers ranging from -2 ** 31 to 2 ** 31 -1.\\nint64 This stores integers ranging from -2 ** 63 to 2 ** 63 -1.\\nuint8 This stores unsigned integers ranging from 0 to 255.\\nuint16 This stores unsigned integers ranging from 0 to 65535.\\nuint32 This stores unsigned integers ranging from 0 to 2 ** 32 – 1.\\nuint64 This stores unsigned integers ranging from 0 to 2 ** 64 – 1.\\nfloat16 Half-precision float; sign bit with 5 bits exponent and 10 bits\\nmantissa.\\nfloat32 Single-precision float; sign bit with 8 bits exponent and 23 bits\\nmantissa.\\nfloat64 or float Double-precision float; sign bit with 11 bits exponent and 52 bits\\nmantissa.\\ncomplex64 Complex number stores two 32-bit floats: real and imaginary\\nnumber.\\ncomplex128 orcomplex\\nComplex number stores two 64-bit floats: real and imaginary\\nnumber.\\n'"
      ]
     },
     "execution_count": 24,
     "metadata": {},
     "output_type": "execute_result"
    }
   ],
   "source": [
    "'''\n",
    "Data Type Details\n",
    "bool This is a Boolean type that stores a bit and takes True or False\n",
    "values.\n",
    "inti Platform integers can be either int32 or int64.\n",
    "int8 Byte store values range from -128 to 127.\n",
    "int16 This stores integers ranging from -32768 to 32767.\n",
    "int32 This stores integers ranging from -2 ** 31 to 2 ** 31 -1.\n",
    "int64 This stores integers ranging from -2 ** 63 to 2 ** 63 -1.\n",
    "uint8 This stores unsigned integers ranging from 0 to 255.\n",
    "uint16 This stores unsigned integers ranging from 0 to 65535.\n",
    "uint32 This stores unsigned integers ranging from 0 to 2 ** 32 – 1.\n",
    "uint64 This stores unsigned integers ranging from 0 to 2 ** 64 – 1.\n",
    "float16 Half-precision float; sign bit with 5 bits exponent and 10 bits\n",
    "mantissa.\n",
    "float32 Single-precision float; sign bit with 8 bits exponent and 23 bits\n",
    "mantissa.\n",
    "float64 or float Double-precision float; sign bit with 11 bits exponent and 52 bits\n",
    "mantissa.\n",
    "complex64 Complex number stores two 32-bit floats: real and imaginary\n",
    "number.\n",
    "complex128 orcomplex\n",
    "Complex number stores two 64-bit floats: real and imaginary\n",
    "number.\n",
    "'''"
   ]
  },
  {
   "cell_type": "code",
   "execution_count": 25,
   "id": "fe193008",
   "metadata": {},
   "outputs": [],
   "source": [
    "# for each data type there exists a matchin gconversion function"
   ]
  },
  {
   "cell_type": "code",
   "execution_count": 26,
   "id": "23159bc0",
   "metadata": {},
   "outputs": [
    {
     "data": {
      "text/plain": [
       "21.0"
      ]
     },
     "execution_count": 26,
     "metadata": {},
     "output_type": "execute_result"
    }
   ],
   "source": [
    "np.float64(21)"
   ]
  },
  {
   "cell_type": "code",
   "execution_count": 27,
   "id": "a596b49c",
   "metadata": {},
   "outputs": [
    {
     "data": {
      "text/plain": [
       "44"
      ]
     },
     "execution_count": 27,
     "metadata": {},
     "output_type": "execute_result"
    }
   ],
   "source": [
    "np.int8(44.0)"
   ]
  },
  {
   "cell_type": "code",
   "execution_count": 28,
   "id": "6e9f5fea",
   "metadata": {},
   "outputs": [
    {
     "name": "stderr",
     "output_type": "stream",
     "text": [
      "C:\\Users\\karti\\AppData\\Local\\Temp/ipykernel_11684/3666456476.py:1: DeprecationWarning: `np.bool` is a deprecated alias for the builtin `bool`. To silence this warning, use `bool` by itself. Doing this will not modify any behavior and is safe. If you specifically wanted the numpy scalar type, use `np.bool_` here.\n",
      "Deprecated in NumPy 1.20; for more details and guidance: https://numpy.org/devdocs/release/1.20.0-notes.html#deprecations\n",
      "  np.bool(21)\n"
     ]
    },
    {
     "data": {
      "text/plain": [
       "True"
      ]
     },
     "execution_count": 28,
     "metadata": {},
     "output_type": "execute_result"
    }
   ],
   "source": [
    "np.bool(21)"
   ]
  },
  {
   "cell_type": "code",
   "execution_count": 29,
   "id": "f1d9b8b8",
   "metadata": {},
   "outputs": [
    {
     "data": {
      "text/plain": [
       "1.0"
      ]
     },
     "execution_count": 29,
     "metadata": {},
     "output_type": "execute_result"
    }
   ],
   "source": [
    "np.float16(True)"
   ]
  },
  {
   "cell_type": "code",
   "execution_count": 30,
   "id": "c5bb0059",
   "metadata": {},
   "outputs": [],
   "source": [
    "# many functions have a dtype argument which is frequently optional"
   ]
  },
  {
   "cell_type": "code",
   "execution_count": 31,
   "id": "dce90253",
   "metadata": {},
   "outputs": [
    {
     "data": {
      "text/plain": [
       "'\\nIt is important to be aware that you are not allowed to change a complex number into an\\ninteger. If you try to convert complex data types into integers, then you will get\\nTypeError.'"
      ]
     },
     "execution_count": 31,
     "metadata": {},
     "output_type": "execute_result"
    }
   ],
   "source": [
    "\"\"\"\n",
    "It is important to be aware that you are not allowed to change a complex number into an\n",
    "integer. If you try to convert complex data types into integers, then you will get\n",
    "TypeError.\"\"\""
   ]
  },
  {
   "cell_type": "code",
   "execution_count": 32,
   "id": "37ee4be2",
   "metadata": {},
   "outputs": [
    {
     "data": {
      "text/plain": [
       "(23.0, 27.0)"
      ]
     },
     "execution_count": 32,
     "metadata": {},
     "output_type": "execute_result"
    }
   ],
   "source": [
    "c=complex(23,27)\n",
    "c.real,c.imag"
   ]
  },
  {
   "cell_type": "code",
   "execution_count": 33,
   "id": "ef616233",
   "metadata": {},
   "outputs": [
    {
     "data": {
      "text/plain": [
       "(23+27j)"
      ]
     },
     "execution_count": 33,
     "metadata": {},
     "output_type": "execute_result"
    }
   ],
   "source": [
    "c"
   ]
  },
  {
   "cell_type": "code",
   "execution_count": 34,
   "id": "09f8db7a",
   "metadata": {},
   "outputs": [],
   "source": [
    "arr=np.arange(1,11,dtype=np.float32)"
   ]
  },
  {
   "cell_type": "markdown",
   "id": "bab5d3de",
   "metadata": {},
   "source": [
    "# dtype objects"
   ]
  },
  {
   "cell_type": "code",
   "execution_count": 35,
   "id": "355e4fec",
   "metadata": {},
   "outputs": [
    {
     "data": {
      "text/plain": [
       "(dtype('int32'), 4)"
      ]
     },
     "execution_count": 35,
     "metadata": {},
     "output_type": "execute_result"
    }
   ],
   "source": [
    "a=np.array([3,2,2,3,2,3,23])\n",
    "a.dtype,a.dtype.itemsize"
   ]
  },
  {
   "cell_type": "code",
   "execution_count": 36,
   "id": "acda6de9",
   "metadata": {},
   "outputs": [],
   "source": [
    "# dtype objects also tell us the size of the data type in bytes using the itemsize property"
   ]
  },
  {
   "cell_type": "markdown",
   "id": "5cc0e6f6",
   "metadata": {},
   "source": [
    "# Manipulating array shapes"
   ]
  },
  {
   "cell_type": "code",
   "execution_count": 37,
   "id": "a9da8bbe",
   "metadata": {},
   "outputs": [],
   "source": [
    "# learn new numpy funcions\n",
    "# uch as\n",
    "# reshape() flatten() ravel() transpose()  and resize() "
   ]
  },
  {
   "cell_type": "code",
   "execution_count": 38,
   "id": "4d6df7bd",
   "metadata": {},
   "outputs": [],
   "source": [
    "# reshape will change the shape of the array"
   ]
  },
  {
   "cell_type": "code",
   "execution_count": 39,
   "id": "aa273460",
   "metadata": {},
   "outputs": [
    {
     "data": {
      "text/plain": [
       "array([ 0,  1,  2,  3,  4,  5,  6,  7,  8,  9, 10, 11])"
      ]
     },
     "execution_count": 39,
     "metadata": {},
     "output_type": "execute_result"
    }
   ],
   "source": [
    "arr=np.arange(12)\n",
    "arr"
   ]
  },
  {
   "cell_type": "code",
   "execution_count": 40,
   "id": "51ab34d6",
   "metadata": {},
   "outputs": [
    {
     "data": {
      "text/plain": [
       "array([[ 0,  1,  2],\n",
       "       [ 3,  4,  5],\n",
       "       [ 6,  7,  8],\n",
       "       [ 9, 10, 11]])"
      ]
     },
     "execution_count": 40,
     "metadata": {},
     "output_type": "execute_result"
    }
   ],
   "source": [
    "arr.reshape(4,3)"
   ]
  },
  {
   "cell_type": "code",
   "execution_count": 41,
   "id": "c0a4530b",
   "metadata": {},
   "outputs": [
    {
     "data": {
      "text/plain": [
       "array([[ 0,  1,  2,  3],\n",
       "       [ 4,  5,  6,  7],\n",
       "       [ 8,  9, 10, 11]])"
      ]
     },
     "execution_count": 41,
     "metadata": {},
     "output_type": "execute_result"
    }
   ],
   "source": [
    "arr.reshape(3,4)"
   ]
  },
  {
   "cell_type": "code",
   "execution_count": 42,
   "id": "c2eec996",
   "metadata": {},
   "outputs": [
    {
     "data": {
      "text/plain": [
       "array([ 0,  1,  2,  3,  4,  5,  6,  7,  8,  9, 10, 11])"
      ]
     },
     "execution_count": 42,
     "metadata": {},
     "output_type": "execute_result"
    }
   ],
   "source": [
    "# another operation is flatten()\n",
    "arr.flatten()"
   ]
  },
  {
   "cell_type": "markdown",
   "id": "52ffef72",
   "metadata": {},
   "source": [
    "The ravel() function is similar to the flatten() function. It also transforms an\n",
    "n-dimensional array into a one-dimensional array. The main difference is that\n",
    "flatten() returns the actual array while ravel() returns the reference of the\n",
    "original array. The ravel() function is faster than the flatten() function\n",
    "because it does not occupy extra memory:"
   ]
  },
  {
   "cell_type": "code",
   "execution_count": 43,
   "id": "5a5c1c4d",
   "metadata": {},
   "outputs": [
    {
     "name": "stdout",
     "output_type": "stream",
     "text": [
      "[ 0  1  2  3  4  5  6  7  8  9 10 11]\n"
     ]
    }
   ],
   "source": [
    "arr.reshape(4,3)\n",
    "print(arr)"
   ]
  },
  {
   "cell_type": "code",
   "execution_count": 44,
   "id": "9502ee47",
   "metadata": {},
   "outputs": [
    {
     "data": {
      "text/plain": [
       "array([ 0,  1,  2,  3,  4,  5,  6,  7,  8,  9, 10, 11])"
      ]
     },
     "execution_count": 44,
     "metadata": {},
     "output_type": "execute_result"
    }
   ],
   "source": [
    "\n",
    "arr.ravel()"
   ]
  },
  {
   "cell_type": "markdown",
   "id": "7d4ee165",
   "metadata": {},
   "source": [
    "The transpose() function is a linear algebraic function that transposes the\n",
    "given two-dimensional matrix. The word transpose means converting rows into\n",
    "columns and columns into rows:"
   ]
  },
  {
   "cell_type": "code",
   "execution_count": 45,
   "id": "2383d51c",
   "metadata": {},
   "outputs": [
    {
     "name": "stdout",
     "output_type": "stream",
     "text": [
      "[[ 0  1  2  3]\n",
      " [ 4  5  6  7]\n",
      " [ 8  9 10 11]]\n"
     ]
    }
   ],
   "source": [
    "ui=arr.reshape(3,4)\n",
    "print(ui)"
   ]
  },
  {
   "cell_type": "code",
   "execution_count": 46,
   "id": "9ed22cd3",
   "metadata": {},
   "outputs": [],
   "source": [
    "art=np.array([[23,23,23],[23232,232,23]])"
   ]
  },
  {
   "cell_type": "code",
   "execution_count": 47,
   "id": "cc538bfc",
   "metadata": {},
   "outputs": [
    {
     "data": {
      "text/plain": [
       "array([[   23,    23,    23],\n",
       "       [23232,   232,    23]])"
      ]
     },
     "execution_count": 47,
     "metadata": {},
     "output_type": "execute_result"
    }
   ],
   "source": [
    "art"
   ]
  },
  {
   "cell_type": "code",
   "execution_count": 48,
   "id": "89a3e0bb",
   "metadata": {},
   "outputs": [
    {
     "name": "stdout",
     "output_type": "stream",
     "text": [
      "[[   23    23    23]\n",
      " [23232   232    23]]\n"
     ]
    }
   ],
   "source": [
    "print(art)"
   ]
  },
  {
   "cell_type": "markdown",
   "id": "c521759e",
   "metadata": {},
   "source": [
    "The resize() function changes the size of the NumPy array. It is similar to\n",
    "reshape() but it changes the shape of the original array:"
   ]
  },
  {
   "cell_type": "code",
   "execution_count": 49,
   "id": "94f09244",
   "metadata": {},
   "outputs": [
    {
     "data": {
      "text/plain": [
       "array([ 0,  1,  2,  3,  4,  5,  6,  7,  8,  9, 10, 11])"
      ]
     },
     "execution_count": 49,
     "metadata": {},
     "output_type": "execute_result"
    }
   ],
   "source": [
    "arr"
   ]
  },
  {
   "cell_type": "code",
   "execution_count": 50,
   "id": "22e24a8b",
   "metadata": {},
   "outputs": [
    {
     "name": "stdout",
     "output_type": "stream",
     "text": [
      "[[ 0  1  2  3]\n",
      " [ 4  5  6  7]\n",
      " [ 8  9 10 11]]\n"
     ]
    }
   ],
   "source": [
    "arr.resize(3,4)\n",
    "print(arr)"
   ]
  },
  {
   "cell_type": "markdown",
   "id": "ca3565da",
   "metadata": {},
   "source": [
    "# the stacking of numpy arrays"
   ]
  },
  {
   "cell_type": "markdown",
   "id": "1e748f9e",
   "metadata": {},
   "source": [
    "Stacking means joining the same dimensional arrays along\n",
    "with a new axis. Stacking can be done horizontally, vertically, column-wise, row-wise, or\n",
    "depth-wise:\n"
   ]
  },
  {
   "cell_type": "markdown",
   "id": "cde9c649",
   "metadata": {},
   "source": [
    "Horizontal stacking: In horizontal stacking, the same dimensional arrays are\n",
    "joined along with a horizontal axis using the hstack() and concatenate()\n",
    "functions. Let's see the following example:\n"
   ]
  },
  {
   "cell_type": "code",
   "execution_count": 51,
   "id": "117317bc",
   "metadata": {},
   "outputs": [],
   "source": [
    "arr1=np.arange(1,10).reshape(3,3)"
   ]
  },
  {
   "cell_type": "code",
   "execution_count": 52,
   "id": "7478a36b",
   "metadata": {},
   "outputs": [
    {
     "data": {
      "text/plain": [
       "array([[1, 2, 3],\n",
       "       [4, 5, 6],\n",
       "       [7, 8, 9]])"
      ]
     },
     "execution_count": 52,
     "metadata": {},
     "output_type": "execute_result"
    }
   ],
   "source": [
    "arr1"
   ]
  },
  {
   "cell_type": "code",
   "execution_count": 53,
   "id": "6135ab80",
   "metadata": {},
   "outputs": [],
   "source": [
    "arr2=3*arr1"
   ]
  },
  {
   "cell_type": "code",
   "execution_count": 54,
   "id": "393e117f",
   "metadata": {},
   "outputs": [
    {
     "data": {
      "text/plain": [
       "array([[ 3,  6,  9],\n",
       "       [12, 15, 18],\n",
       "       [21, 24, 27]])"
      ]
     },
     "execution_count": 54,
     "metadata": {},
     "output_type": "execute_result"
    }
   ],
   "source": [
    "arr2"
   ]
  },
  {
   "cell_type": "code",
   "execution_count": 55,
   "id": "4094b443",
   "metadata": {},
   "outputs": [
    {
     "name": "stdout",
     "output_type": "stream",
     "text": [
      "[[ 1  2  3  3  6  9]\n",
      " [ 4  5  6 12 15 18]\n",
      " [ 7  8  9 21 24 27]]\n"
     ]
    }
   ],
   "source": [
    "# horizontal stacking\n",
    "arr3=np.hstack((arr1,arr2))\n",
    "print(arr3)"
   ]
  },
  {
   "cell_type": "markdown",
   "id": "8b3ca15f",
   "metadata": {},
   "source": [
    "In the preceding code, two arrays are stacked horizontally along the x axis. The\n",
    "concatenate() function can also be used to generate the horizontal stacking\n",
    "with axis parameter value 1:\n"
   ]
  },
  {
   "cell_type": "code",
   "execution_count": 56,
   "id": "e8b75edc",
   "metadata": {},
   "outputs": [
    {
     "name": "stdout",
     "output_type": "stream",
     "text": [
      "[[ 1  2  3  3  6  9]\n",
      " [ 4  5  6 12 15 18]\n",
      " [ 7  8  9 21 24 27]]\n"
     ]
    }
   ],
   "source": [
    "arr4=np.concatenate((arr1,arr2),axis=1)\n",
    "print(arr4)"
   ]
  },
  {
   "cell_type": "code",
   "execution_count": 57,
   "id": "1c2e6307",
   "metadata": {},
   "outputs": [
    {
     "name": "stdout",
     "output_type": "stream",
     "text": [
      "[[ 1  2  3]\n",
      " [ 4  5  6]\n",
      " [ 7  8  9]\n",
      " [ 3  6  9]\n",
      " [12 15 18]\n",
      " [21 24 27]]\n"
     ]
    }
   ],
   "source": [
    "#vertical stacking\n",
    "arr5=np.vstack((arr1,arr2))\n",
    "print(arr5)"
   ]
  },
  {
   "cell_type": "code",
   "execution_count": 58,
   "id": "866a71fb",
   "metadata": {},
   "outputs": [],
   "source": [
    "#using concatenate\n",
    "arr6=np.concatenate((arr1,arr2),axis=0)"
   ]
  },
  {
   "cell_type": "code",
   "execution_count": 59,
   "id": "23901816",
   "metadata": {},
   "outputs": [
    {
     "data": {
      "text/plain": [
       "array([[ 1,  2,  3],\n",
       "       [ 4,  5,  6],\n",
       "       [ 7,  8,  9],\n",
       "       [ 3,  6,  9],\n",
       "       [12, 15, 18],\n",
       "       [21, 24, 27]])"
      ]
     },
     "execution_count": 59,
     "metadata": {},
     "output_type": "execute_result"
    }
   ],
   "source": [
    "arr6"
   ]
  },
  {
   "cell_type": "markdown",
   "id": "5a819e18",
   "metadata": {},
   "source": [
    "# depth Stacking\n",
    "In depth stacking, the same dimensional arrays are joined along\n",
    "with a third axis (depth) using the dstack() function. Let's see the following\n",
    "example:"
   ]
  },
  {
   "cell_type": "code",
   "execution_count": 60,
   "id": "fa969caf",
   "metadata": {},
   "outputs": [
    {
     "name": "stdout",
     "output_type": "stream",
     "text": [
      "[[[ 1  3]\n",
      "  [ 2  6]\n",
      "  [ 3  9]]\n",
      "\n",
      " [[ 4 12]\n",
      "  [ 5 15]\n",
      "  [ 6 18]]\n",
      "\n",
      " [[ 7 21]\n",
      "  [ 8 24]\n",
      "  [ 9 27]]]\n"
     ]
    }
   ],
   "source": [
    "arr7=np.dstack((arr1,arr2))\n",
    "print(arr7)"
   ]
  },
  {
   "cell_type": "markdown",
   "id": "2f8c8cfa",
   "metadata": {},
   "source": [
    "Column stacking: Column stacking stacks multiple sequence one-dimensional\n",
    "arrays as columns into a single two-dimensional array. Let's see an example of\n",
    "column stacking:\n"
   ]
  },
  {
   "cell_type": "code",
   "execution_count": 61,
   "id": "a128ee37",
   "metadata": {},
   "outputs": [
    {
     "data": {
      "text/plain": [
       "array([4, 5, 6])"
      ]
     },
     "execution_count": 61,
     "metadata": {},
     "output_type": "execute_result"
    }
   ],
   "source": [
    "arr1=np.arange(4,7)\n",
    "arr1"
   ]
  },
  {
   "cell_type": "code",
   "execution_count": 62,
   "id": "ebb27ced",
   "metadata": {},
   "outputs": [
    {
     "name": "stdout",
     "output_type": "stream",
     "text": [
      "[ 8 10 12]\n"
     ]
    }
   ],
   "source": [
    "arr2=2*arr1\n",
    "print(arr2)"
   ]
  },
  {
   "cell_type": "code",
   "execution_count": 63,
   "id": "859666d7",
   "metadata": {},
   "outputs": [
    {
     "name": "stdout",
     "output_type": "stream",
     "text": [
      "[[ 4  8]\n",
      " [ 5 10]\n",
      " [ 6 12]]\n"
     ]
    }
   ],
   "source": [
    "arrcolstack=np.column_stack((arr1,arr2))\n",
    "print(arrcolstack)"
   ]
  },
  {
   "cell_type": "markdown",
   "id": "55564df6",
   "metadata": {},
   "source": [
    "Row stacking: Row stacking stacks multiple sequence one-dimensional arrays as\n",
    "rows into a single two-dimensional arrays. Let's see an example of row stacking"
   ]
  },
  {
   "cell_type": "code",
   "execution_count": 64,
   "id": "6bc585c0",
   "metadata": {},
   "outputs": [
    {
     "name": "stdout",
     "output_type": "stream",
     "text": [
      "[[ 4  5  6]\n",
      " [ 8 10 12]]\n"
     ]
    }
   ],
   "source": [
    "arrrowstack=np.row_stack((arr1,arr2))\n",
    "print(arrrowstack)"
   ]
  },
  {
   "cell_type": "markdown",
   "id": "739874bc",
   "metadata": {},
   "source": [
    "# partioning  numpy arrays opposite of stack"
   ]
  },
  {
   "cell_type": "code",
   "execution_count": 65,
   "id": "5e3f68c0",
   "metadata": {},
   "outputs": [
    {
     "name": "stdout",
     "output_type": "stream",
     "text": [
      "[[1 2 3]\n",
      " [4 5 6]\n",
      " [7 8 9]]\n"
     ]
    }
   ],
   "source": [
    "arr=np.arange(1,10).reshape(3,3)\n",
    "print(arr)"
   ]
  },
  {
   "cell_type": "code",
   "execution_count": 66,
   "id": "a904c9da",
   "metadata": {},
   "outputs": [],
   "source": [
    "arr_hor_split=np.hsplit(arr,3)"
   ]
  },
  {
   "cell_type": "code",
   "execution_count": 67,
   "id": "a8eef8e0",
   "metadata": {},
   "outputs": [
    {
     "data": {
      "text/plain": [
       "[array([[1],\n",
       "        [4],\n",
       "        [7]]),\n",
       " array([[2],\n",
       "        [5],\n",
       "        [8]]),\n",
       " array([[3],\n",
       "        [6],\n",
       "        [9]])]"
      ]
     },
     "execution_count": 67,
     "metadata": {},
     "output_type": "execute_result"
    }
   ],
   "source": [
    "arr_hor_split"
   ]
  },
  {
   "cell_type": "markdown",
   "id": "5da831eb",
   "metadata": {},
   "source": [
    "the hsplit(arr, 3) function divides the array into three\n",
    "sub-arrays. Each part is a column of the original array."
   ]
  },
  {
   "cell_type": "markdown",
   "id": "7b55ae28",
   "metadata": {},
   "source": [
    "Vertical splitting: In vertical split, the given array is divided into N equal subarrays along the vertical axis using the vsplit() and split() functions. The\n",
    "split function with axis=0 performs the same operation as the vsplit()\n",
    "function:"
   ]
  },
  {
   "cell_type": "code",
   "execution_count": 68,
   "id": "d84f949f",
   "metadata": {},
   "outputs": [],
   "source": [
    "arr_ver_split=np.vsplit(arr,3)"
   ]
  },
  {
   "cell_type": "code",
   "execution_count": 69,
   "id": "b449c990",
   "metadata": {},
   "outputs": [
    {
     "name": "stdout",
     "output_type": "stream",
     "text": [
      "[array([[1, 2, 3]]), array([[4, 5, 6]]), array([[7, 8, 9]])]\n"
     ]
    }
   ],
   "source": [
    "print(arr_ver_split)"
   ]
  },
  {
   "cell_type": "code",
   "execution_count": 70,
   "id": "fca54edc",
   "metadata": {},
   "outputs": [],
   "source": [
    "# split with axis=0"
   ]
  },
  {
   "cell_type": "code",
   "execution_count": 72,
   "id": "1619ff1c",
   "metadata": {},
   "outputs": [],
   "source": [
    "arr_split=np.split(arr,3,axis=0)"
   ]
  },
  {
   "cell_type": "code",
   "execution_count": 73,
   "id": "4e5b21f0",
   "metadata": {},
   "outputs": [
    {
     "data": {
      "text/plain": [
       "[array([[1, 2, 3]]), array([[4, 5, 6]]), array([[7, 8, 9]])]"
      ]
     },
     "execution_count": 73,
     "metadata": {},
     "output_type": "execute_result"
    }
   ],
   "source": [
    "arr_split"
   ]
  },
  {
   "cell_type": "code",
   "execution_count": 74,
   "id": "23916d93",
   "metadata": {},
   "outputs": [],
   "source": [
    "#split with axis=1"
   ]
  },
  {
   "cell_type": "code",
   "execution_count": 75,
   "id": "1097e481",
   "metadata": {},
   "outputs": [],
   "source": [
    "arr_split=np.split(arr,3,axis=1)"
   ]
  },
  {
   "cell_type": "code",
   "execution_count": 76,
   "id": "dd7539e7",
   "metadata": {},
   "outputs": [
    {
     "data": {
      "text/plain": [
       "[array([[1],\n",
       "        [4],\n",
       "        [7]]),\n",
       " array([[2],\n",
       "        [5],\n",
       "        [8]]),\n",
       " array([[3],\n",
       "        [6],\n",
       "        [9]])]"
      ]
     },
     "execution_count": 76,
     "metadata": {},
     "output_type": "execute_result"
    }
   ],
   "source": [
    "arr_split"
   ]
  },
  {
   "cell_type": "code",
   "execution_count": 77,
   "id": "842dc606",
   "metadata": {},
   "outputs": [],
   "source": [
    "# changing the data type of numpy arrays"
   ]
  },
  {
   "cell_type": "code",
   "execution_count": 78,
   "id": "32e20d56",
   "metadata": {},
   "outputs": [
    {
     "name": "stdout",
     "output_type": "stream",
     "text": [
      "integer array [[1 2 3]\n",
      " [4 5 6]\n",
      " [7 8 9]]\n"
     ]
    }
   ],
   "source": [
    "arr=np.arange(1,10).reshape(3,3)\n",
    "print('integer array',arr)"
   ]
  },
  {
   "cell_type": "code",
   "execution_count": 80,
   "id": "45353441",
   "metadata": {},
   "outputs": [
    {
     "data": {
      "text/plain": [
       "array([[1., 2., 3.],\n",
       "       [4., 5., 6.],\n",
       "       [7., 8., 9.]])"
      ]
     },
     "execution_count": 80,
     "metadata": {},
     "output_type": "execute_result"
    }
   ],
   "source": [
    "#change datatype\n",
    "arr=arr.astype(float)\n",
    "arr#float array"
   ]
  },
  {
   "cell_type": "code",
   "execution_count": 81,
   "id": "bd4e7b04",
   "metadata": {},
   "outputs": [
    {
     "data": {
      "text/plain": [
       "dtype('float64')"
      ]
     },
     "execution_count": 81,
     "metadata": {},
     "output_type": "execute_result"
    }
   ],
   "source": [
    "arr.dtype"
   ]
  },
  {
   "cell_type": "code",
   "execution_count": 82,
   "id": "f09f3c6f",
   "metadata": {},
   "outputs": [
    {
     "name": "stdout",
     "output_type": "stream",
     "text": [
      "[[1.0, 2.0, 3.0], [4.0, 5.0, 6.0], [7.0, 8.0, 9.0]]\n"
     ]
    }
   ],
   "source": [
    "# convert numpy array to python list\n",
    "arr=arr.tolist()\n",
    "print(arr)"
   ]
  },
  {
   "cell_type": "markdown",
   "id": "b044f851",
   "metadata": {},
   "source": [
    "# creating numpy views and copies"
   ]
  },
  {
   "cell_type": "markdown",
   "id": "eb1c6fd7",
   "metadata": {},
   "source": [
    "Some of the Python functions return either a copy or a view of the input array. A Python\n",
    "copy stores the array in another location while a view uses the same memory content. This\n",
    "means copies are separate objects and treated as a deep copy in Python. Views are the\n",
    "original base array and are treated as a shallow copy. Here are some properties of copies\n",
    "and views:"
   ]
  },
  {
   "cell_type": "markdown",
   "id": "0ce05f33",
   "metadata": {},
   "source": [
    "Modifications in a view affect the original data whereas modifications in a copy\n",
    "do not affect the original array.\n",
    "Views use the concept of shared memory.\n",
    "Copies require extra space compared to views.\n",
    "Copies are slower than views."
   ]
  },
  {
   "cell_type": "code",
   "execution_count": 83,
   "id": "b549f429",
   "metadata": {},
   "outputs": [],
   "source": [
    "arr=np.arange(1,5).reshape(2,2)"
   ]
  },
  {
   "cell_type": "code",
   "execution_count": 84,
   "id": "103843cc",
   "metadata": {},
   "outputs": [
    {
     "data": {
      "text/plain": [
       "array([[1, 2],\n",
       "       [3, 4]])"
      ]
     },
     "execution_count": 84,
     "metadata": {},
     "output_type": "execute_result"
    }
   ],
   "source": [
    "arr"
   ]
  },
  {
   "cell_type": "code",
   "execution_count": 85,
   "id": "aa5832a5",
   "metadata": {},
   "outputs": [],
   "source": [
    "# create no copy only assignment\n",
    "arr_no_copy=arr"
   ]
  },
  {
   "cell_type": "code",
   "execution_count": 86,
   "id": "ed5b89a8",
   "metadata": {},
   "outputs": [],
   "source": [
    "#create deep copy\n",
    "arr_copy=arr.copy()"
   ]
  },
  {
   "cell_type": "code",
   "execution_count": 87,
   "id": "b10363ae",
   "metadata": {},
   "outputs": [],
   "source": [
    "#create shallow copy using view\n",
    "arr_view=arr.view()"
   ]
  },
  {
   "cell_type": "code",
   "execution_count": 88,
   "id": "10ec8674",
   "metadata": {},
   "outputs": [
    {
     "name": "stdout",
     "output_type": "stream",
     "text": [
      "Original Array:  2536206730704\n",
      "Assignment:  2536206730704\n",
      "Deep Copy:  2538320734224\n",
      "Shallow Copy(View):  2538320073808\n"
     ]
    }
   ],
   "source": [
    "print(\"Original Array: \",id(arr))\n",
    "print(\"Assignment: \",id(arr_no_copy))\n",
    "print(\"Deep Copy: \",id(arr_copy))\n",
    "print(\"Shallow Copy(View): \",id(arr_view))"
   ]
  },
  {
   "cell_type": "code",
   "execution_count": 89,
   "id": "89420f32",
   "metadata": {},
   "outputs": [
    {
     "name": "stdout",
     "output_type": "stream",
     "text": [
      "view array [[ 1  2]\n",
      " [98 99]]\n",
      "copyarray [[1 2]\n",
      " [3 4]]\n"
     ]
    }
   ],
   "source": [
    "arr[1]=[98,99]\n",
    "\n",
    "print('view array',arr_view)\n",
    "\n",
    "print('copyarray',arr_copy)"
   ]
  },
  {
   "cell_type": "markdown",
   "id": "e0514a05",
   "metadata": {},
   "source": [
    "In the preceding example, we can conclude from the results that the view is the original\n",
    "array. The values changed when we updated the original array and the copy is a separate\n",
    "object because its values remain the same."
   ]
  },
  {
   "cell_type": "markdown",
   "id": "6de0ea38",
   "metadata": {},
   "source": [
    "# Slicing numpy arrays"
   ]
  },
  {
   "cell_type": "markdown",
   "id": "7f513bb1",
   "metadata": {},
   "source": [
    "Slicing in NumPy is similar to Python lists. Indexing prefers to select a single value while\n",
    "slicing is used to select multiple values from an array.\n",
    "NumPy arrays also support negative indexing and slicing. Here, the negative sign indicates\n",
    "the opposite direction and indexing starts from the right-hand side with a starting value of\n",
    "-1:\n"
   ]
  },
  {
   "cell_type": "code",
   "execution_count": 91,
   "id": "396ee8d3",
   "metadata": {},
   "outputs": [
    {
     "name": "stdout",
     "output_type": "stream",
     "text": [
      "[0 1 2 3 4 5 6 7 8 9]\n"
     ]
    }
   ],
   "source": [
    "arr=np.arange(10)\n",
    "print(arr)"
   ]
  },
  {
   "cell_type": "code",
   "execution_count": 92,
   "id": "1b0bfaa9",
   "metadata": {},
   "outputs": [
    {
     "data": {
      "text/plain": [
       "array([3, 4, 5])"
      ]
     },
     "execution_count": 92,
     "metadata": {},
     "output_type": "execute_result"
    }
   ],
   "source": [
    "arr[3:6]"
   ]
  },
  {
   "cell_type": "code",
   "execution_count": 93,
   "id": "80a31dcf",
   "metadata": {},
   "outputs": [
    {
     "data": {
      "text/plain": [
       "array([3, 4, 5, 6, 7, 8, 9])"
      ]
     },
     "execution_count": 93,
     "metadata": {},
     "output_type": "execute_result"
    }
   ],
   "source": [
    "arr[3:]"
   ]
  },
  {
   "cell_type": "code",
   "execution_count": 95,
   "id": "e08e0cc9",
   "metadata": {},
   "outputs": [
    {
     "data": {
      "text/plain": [
       "array([9])"
      ]
     },
     "execution_count": 95,
     "metadata": {},
     "output_type": "execute_result"
    }
   ],
   "source": [
    "arr[-1:]"
   ]
  },
  {
   "cell_type": "markdown",
   "id": "a9bc76c8",
   "metadata": {},
   "source": [
    "# Boolean and fancy indexing "
   ]
  },
  {
   "cell_type": "code",
   "execution_count": 97,
   "id": "47709188",
   "metadata": {},
   "outputs": [
    {
     "name": "stdout",
     "output_type": "stream",
     "text": [
      "[21 23 25 27 29 31 33 35 37 39]\n"
     ]
    }
   ],
   "source": [
    "arr=np.arange(21,41,2)\n",
    "print(arr)"
   ]
  },
  {
   "cell_type": "markdown",
   "id": "e41d565c",
   "metadata": {},
   "source": [
    "Indexing techniques help us to select and filter elements from a NumPy array. In this\n",
    "section, we will focus on Boolean and fancy indexing. Boolean indexing uses a Boolean\n",
    "expression in the place of indexes (in square brackets) to filter the NumPy array. This\n",
    "indexing returns elements that have a true value for the Boolean expression:\n"
   ]
  },
  {
   "cell_type": "code",
   "execution_count": 98,
   "id": "0b6237e9",
   "metadata": {},
   "outputs": [
    {
     "name": "stdout",
     "output_type": "stream",
     "text": [
      "[31 33 35 37 39]\n"
     ]
    }
   ],
   "source": [
    "# boolean indexing\n",
    "print(arr[arr>30])"
   ]
  },
  {
   "cell_type": "markdown",
   "id": "b82511a1",
   "metadata": {},
   "source": [
    "Fancy indexing is a special type of indexing in which elements of an array are selected by\n",
    "an array of indices. This means we pass the array of indices in brackets. Fancy indexing also\n",
    "supports multi-dimensional arrays. This will help us to easily select and modify a complex\n",
    "multi-dimensional set of arrays. Let's see an example as follows to understand fancy\n",
    "indexing:\n"
   ]
  },
  {
   "cell_type": "code",
   "execution_count": 100,
   "id": "ed580ca0",
   "metadata": {},
   "outputs": [],
   "source": [
    "arr=np.arange(1,21).reshape(5,4)"
   ]
  },
  {
   "cell_type": "code",
   "execution_count": 101,
   "id": "2f681c15",
   "metadata": {},
   "outputs": [
    {
     "data": {
      "text/plain": [
       "array([[ 1,  2,  3,  4],\n",
       "       [ 5,  6,  7,  8],\n",
       "       [ 9, 10, 11, 12],\n",
       "       [13, 14, 15, 16],\n",
       "       [17, 18, 19, 20]])"
      ]
     },
     "execution_count": 101,
     "metadata": {},
     "output_type": "execute_result"
    }
   ],
   "source": [
    "arr"
   ]
  },
  {
   "cell_type": "code",
   "execution_count": 102,
   "id": "59e698c9",
   "metadata": {},
   "outputs": [
    {
     "data": {
      "text/plain": [
       "array([[ 5,  6,  7,  8],\n",
       "       [ 9, 10, 11, 12]])"
      ]
     },
     "execution_count": 102,
     "metadata": {},
     "output_type": "execute_result"
    }
   ],
   "source": [
    "# Selecting 2nd and 3rd row\n",
    "arr[[1,2]]"
   ]
  },
  {
   "cell_type": "code",
   "execution_count": 103,
   "id": "952ab253",
   "metadata": {},
   "outputs": [
    {
     "data": {
      "text/plain": [
       "array([[ 9, 10, 11, 12],\n",
       "       [13, 14, 15, 16]])"
      ]
     },
     "execution_count": 103,
     "metadata": {},
     "output_type": "execute_result"
    }
   ],
   "source": [
    "# Selecting 3nd and 4th row\n",
    "arr[[2,3]]"
   ]
  },
  {
   "cell_type": "code",
   "execution_count": 111,
   "id": "b67e07b4",
   "metadata": {},
   "outputs": [
    {
     "data": {
      "text/plain": [
       "array([ 9, 14])"
      ]
     },
     "execution_count": 111,
     "metadata": {},
     "output_type": "execute_result"
    }
   ],
   "source": [
    "arr[[2,3],[0,1]]"
   ]
  },
  {
   "cell_type": "markdown",
   "id": "cde473f8",
   "metadata": {},
   "source": [
    "# broadcasting Arrays"
   ]
  },
  {
   "cell_type": "markdown",
   "id": "45f44d22",
   "metadata": {},
   "source": [
    "Python lists do not support direct vectorizing arithmetic operations. NumPy offers a fastervectorized array operation compared to Python list loop-based operations. Here, all the\n",
    "looping operations are performed in C instead of Python, which makes it faster.\n",
    "Broadcasting functionality checks a set of rules for applying binary functions, such as\n",
    "addition, subtraction, and multiplication, on different shapes of an array."
   ]
  },
  {
   "cell_type": "code",
   "execution_count": 113,
   "id": "be6d41ae",
   "metadata": {},
   "outputs": [
    {
     "name": "stdout",
     "output_type": "stream",
     "text": [
      "[[1 2]\n",
      " [3 4]]\n"
     ]
    }
   ],
   "source": [
    "arr1=np.arange(1,5).reshape(2,2)\n",
    "print(arr1)"
   ]
  },
  {
   "cell_type": "code",
   "execution_count": 115,
   "id": "285b1b39",
   "metadata": {},
   "outputs": [
    {
     "data": {
      "text/plain": [
       "array([[5, 6],\n",
       "       [7, 8]])"
      ]
     },
     "execution_count": 115,
     "metadata": {},
     "output_type": "execute_result"
    }
   ],
   "source": [
    "arr2=np.arange(5,9).reshape(2,2)\n",
    "arr2"
   ]
  },
  {
   "cell_type": "code",
   "execution_count": 117,
   "id": "3d24a55a",
   "metadata": {},
   "outputs": [
    {
     "name": "stdout",
     "output_type": "stream",
     "text": [
      "[[ 6  8]\n",
      " [10 12]]\n"
     ]
    }
   ],
   "source": [
    "# Add two matrices\n",
    "print(arr1+arr2)"
   ]
  },
  {
   "cell_type": "code",
   "execution_count": 118,
   "id": "f841987d",
   "metadata": {},
   "outputs": [
    {
     "name": "stdout",
     "output_type": "stream",
     "text": [
      "[[ 5 12]\n",
      " [21 32]]\n"
     ]
    }
   ],
   "source": [
    "# Multiply two matrices\n",
    "print(arr1*arr2)"
   ]
  },
  {
   "cell_type": "markdown",
   "id": "55e8afe0",
   "metadata": {},
   "source": [
    "In the preceding example, two matrices were multiplied. Let's perform addition and\n",
    "multiplication with a scalar value:"
   ]
  },
  {
   "cell_type": "code",
   "execution_count": 119,
   "id": "206d92e9",
   "metadata": {},
   "outputs": [
    {
     "data": {
      "text/plain": [
       "array([[4, 5],\n",
       "       [6, 7]])"
      ]
     },
     "execution_count": 119,
     "metadata": {},
     "output_type": "execute_result"
    }
   ],
   "source": [
    "# add sclar value\n",
    "arr1+3\n"
   ]
  },
  {
   "cell_type": "code",
   "execution_count": 120,
   "id": "66cdcb08",
   "metadata": {},
   "outputs": [
    {
     "data": {
      "text/plain": [
       "array([[ 3,  6],\n",
       "       [ 9, 12]])"
      ]
     },
     "execution_count": 120,
     "metadata": {},
     "output_type": "execute_result"
    }
   ],
   "source": [
    "# multiply with scalar value\n",
    "arr1*3"
   ]
  },
  {
   "cell_type": "code",
   "execution_count": null,
   "id": "9ca74cbd",
   "metadata": {},
   "outputs": [],
   "source": []
  }
 ],
 "metadata": {
  "kernelspec": {
   "display_name": "Python 3 (ipykernel)",
   "language": "python",
   "name": "python3"
  },
  "language_info": {
   "codemirror_mode": {
    "name": "ipython",
    "version": 3
   },
   "file_extension": ".py",
   "mimetype": "text/x-python",
   "name": "python",
   "nbconvert_exporter": "python",
   "pygments_lexer": "ipython3",
   "version": "3.9.5"
  }
 },
 "nbformat": 4,
 "nbformat_minor": 5
}

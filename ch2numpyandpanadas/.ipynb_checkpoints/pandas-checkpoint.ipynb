{
 "cells": [
  {
   "cell_type": "markdown",
   "id": "182ffe7a",
   "metadata": {},
   "source": [
    "# Creating pandas DataFrames"
   ]
  },
  {
   "cell_type": "markdown",
   "id": "e3acffc7",
   "metadata": {},
   "source": [
    "the pandas library is designed to work with a panel or tabular data\n",
    "pandas is fast highly efficient and producive tool for manipulating and analyzing string ,numeric,\n",
    "datettime and time series data .pandas provides data structures such as DataFrames and \n",
    "Series "
   ]
  },
  {
   "cell_type": "markdown",
   "id": "543d352f",
   "metadata": {},
   "source": [
    "A pandas DataFrame is a tabular, two-dimensional labeled and indexed data\n",
    "structure with a grid of rows and columns. Its columns are heterogeneous types. It has the\n",
    "capability to work with different types of objects, carry out grouping and joining\n",
    "operations, handle missing values, create pivot tables, and deal with dates. A pandas\n",
    "DataFrame can be created in multiple ways. Let's create an empty DataFrame:\n"
   ]
  },
  {
   "cell_type": "code",
   "execution_count": 1,
   "id": "a3648987",
   "metadata": {},
   "outputs": [
    {
     "data": {
      "text/html": [
       "<div>\n",
       "<style scoped>\n",
       "    .dataframe tbody tr th:only-of-type {\n",
       "        vertical-align: middle;\n",
       "    }\n",
       "\n",
       "    .dataframe tbody tr th {\n",
       "        vertical-align: top;\n",
       "    }\n",
       "\n",
       "    .dataframe thead th {\n",
       "        text-align: right;\n",
       "    }\n",
       "</style>\n",
       "<table border=\"1\" class=\"dataframe\">\n",
       "  <thead>\n",
       "    <tr style=\"text-align: right;\">\n",
       "      <th></th>\n",
       "    </tr>\n",
       "  </thead>\n",
       "  <tbody>\n",
       "  </tbody>\n",
       "</table>\n",
       "</div>"
      ],
      "text/plain": [
       "Empty DataFrame\n",
       "Columns: []\n",
       "Index: []"
      ]
     },
     "execution_count": 1,
     "metadata": {},
     "output_type": "execute_result"
    }
   ],
   "source": [
    "# import panadas librry\n",
    "import pandas as pd\n",
    "\n",
    "# create empty DataFrame\n",
    "df=pd.DataFrame()\n",
    "\n",
    "# header of dataframe()\n",
    "df.head()\n"
   ]
  },
  {
   "cell_type": "code",
   "execution_count": 2,
   "id": "06d34509",
   "metadata": {},
   "outputs": [],
   "source": [
    "#In the preceding example, we have created an empty DataFrame. Let's create a DataFrame\n",
    "#using a dictionary of the list:"
   ]
  },
  {
   "cell_type": "code",
   "execution_count": 3,
   "id": "7ae62d51",
   "metadata": {},
   "outputs": [
    {
     "data": {
      "text/html": [
       "<div>\n",
       "<style scoped>\n",
       "    .dataframe tbody tr th:only-of-type {\n",
       "        vertical-align: middle;\n",
       "    }\n",
       "\n",
       "    .dataframe tbody tr th {\n",
       "        vertical-align: top;\n",
       "    }\n",
       "\n",
       "    .dataframe thead th {\n",
       "        text-align: right;\n",
       "    }\n",
       "</style>\n",
       "<table border=\"1\" class=\"dataframe\">\n",
       "  <thead>\n",
       "    <tr style=\"text-align: right;\">\n",
       "      <th></th>\n",
       "      <th>Nmae</th>\n",
       "      <th>age</th>\n",
       "    </tr>\n",
       "  </thead>\n",
       "  <tbody>\n",
       "    <tr>\n",
       "      <th>0</th>\n",
       "      <td>vijay</td>\n",
       "      <td>44</td>\n",
       "    </tr>\n",
       "    <tr>\n",
       "      <th>1</th>\n",
       "      <td>sundar</td>\n",
       "      <td>23</td>\n",
       "    </tr>\n",
       "    <tr>\n",
       "      <th>2</th>\n",
       "      <td>satyam</td>\n",
       "      <td>53</td>\n",
       "    </tr>\n",
       "    <tr>\n",
       "      <th>3</th>\n",
       "      <td>indira</td>\n",
       "      <td>21</td>\n",
       "    </tr>\n",
       "  </tbody>\n",
       "</table>\n",
       "</div>"
      ],
      "text/plain": [
       "     Nmae  age\n",
       "0   vijay   44\n",
       "1  sundar   23\n",
       "2  satyam   53\n",
       "3  indira   21"
      ]
     },
     "execution_count": 3,
     "metadata": {},
     "output_type": "execute_result"
    }
   ],
   "source": [
    "# create dictionary of list\n",
    "data={'Nmae':['vijay','sundar','satyam','indira'],'age':[44,23,53,21]}\n",
    "\n",
    "# creae the pandaas Dataframe \n",
    "df=pd.DataFrame(data)\n",
    "\n",
    "#header of dataframe\n",
    "df.head()"
   ]
  },
  {
   "cell_type": "markdown",
   "id": "3b5ba534",
   "metadata": {},
   "source": [
    "In the preceding code, we have used a dictionary of the list to create a DataFrame. Here, the\n",
    "keys of the dictionary are equivalent to columns, and values are represented as a list that is\n",
    "equivalent to the rows of the DataFrame. Let's create a DataFrame using the list of\n",
    "dictionaries:"
   ]
  },
  {
   "cell_type": "code",
   "execution_count": 4,
   "id": "f29d9de2",
   "metadata": {},
   "outputs": [
    {
     "data": {
      "text/html": [
       "<div>\n",
       "<style scoped>\n",
       "    .dataframe tbody tr th:only-of-type {\n",
       "        vertical-align: middle;\n",
       "    }\n",
       "\n",
       "    .dataframe tbody tr th {\n",
       "        vertical-align: top;\n",
       "    }\n",
       "\n",
       "    .dataframe thead th {\n",
       "        text-align: right;\n",
       "    }\n",
       "</style>\n",
       "<table border=\"1\" class=\"dataframe\">\n",
       "  <thead>\n",
       "    <tr style=\"text-align: right;\">\n",
       "      <th></th>\n",
       "      <th>Name</th>\n",
       "      <th>Age</th>\n",
       "    </tr>\n",
       "  </thead>\n",
       "  <tbody>\n",
       "    <tr>\n",
       "      <th>0</th>\n",
       "      <td>Vijay</td>\n",
       "      <td>23</td>\n",
       "    </tr>\n",
       "    <tr>\n",
       "      <th>1</th>\n",
       "      <td>Sundar</td>\n",
       "      <td>25</td>\n",
       "    </tr>\n",
       "    <tr>\n",
       "      <th>2</th>\n",
       "      <td>Shankar</td>\n",
       "      <td>26</td>\n",
       "    </tr>\n",
       "  </tbody>\n",
       "</table>\n",
       "</div>"
      ],
      "text/plain": [
       "      Name  Age\n",
       "0    Vijay   23\n",
       "1   Sundar   25\n",
       "2  Shankar   26"
      ]
     },
     "execution_count": 4,
     "metadata": {},
     "output_type": "execute_result"
    }
   ],
   "source": [
    "# Pandas DataFrame by lists of dicts.\n",
    "# Initialise data to lists.\n",
    "data =[ {'Name': 'Vijay', 'Age': 23},{'Name': 'Sundar', 'Age': 25},{'Name':\n",
    "'Shankar', 'Age': 26}]\n",
    "\n",
    "# create Data Frame\n",
    "df=pd.DataFrame(data,columns=['Name','Age'])\n",
    "\n",
    "#print header\n",
    "df.head()\n"
   ]
  },
  {
   "cell_type": "markdown",
   "id": "b5cb7259",
   "metadata": {},
   "source": [
    "In the preceding code, the DataFrame is created using a list of dictionaries. In the list, each\n",
    "item is a dictionary. Each key is the name of the column and the value is the cell value for a\n",
    "row. Let's create a DataFrame using a list of tuples:"
   ]
  },
  {
   "cell_type": "code",
   "execution_count": 5,
   "id": "4b221559",
   "metadata": {},
   "outputs": [
    {
     "data": {
      "text/html": [
       "<div>\n",
       "<style scoped>\n",
       "    .dataframe tbody tr th:only-of-type {\n",
       "        vertical-align: middle;\n",
       "    }\n",
       "\n",
       "    .dataframe tbody tr th {\n",
       "        vertical-align: top;\n",
       "    }\n",
       "\n",
       "    .dataframe thead th {\n",
       "        text-align: right;\n",
       "    }\n",
       "</style>\n",
       "<table border=\"1\" class=\"dataframe\">\n",
       "  <thead>\n",
       "    <tr style=\"text-align: right;\">\n",
       "      <th></th>\n",
       "      <th>Name</th>\n",
       "      <th>Age</th>\n",
       "    </tr>\n",
       "  </thead>\n",
       "  <tbody>\n",
       "    <tr>\n",
       "      <th>0</th>\n",
       "      <td>Vijay</td>\n",
       "      <td>23</td>\n",
       "    </tr>\n",
       "    <tr>\n",
       "      <th>1</th>\n",
       "      <td>Sundar</td>\n",
       "      <td>45</td>\n",
       "    </tr>\n",
       "    <tr>\n",
       "      <th>2</th>\n",
       "      <td>Satyam</td>\n",
       "      <td>46</td>\n",
       "    </tr>\n",
       "    <tr>\n",
       "      <th>3</th>\n",
       "      <td>Indira</td>\n",
       "      <td>52</td>\n",
       "    </tr>\n",
       "  </tbody>\n",
       "</table>\n",
       "</div>"
      ],
      "text/plain": [
       "     Name  Age\n",
       "0   Vijay   23\n",
       "1  Sundar   45\n",
       "2  Satyam   46\n",
       "3  Indira   52"
      ]
     },
     "execution_count": 5,
     "metadata": {},
     "output_type": "execute_result"
    }
   ],
   "source": [
    "# Creating DataFrame using list of tuples.\n",
    "data = [('Vijay', 23),( 'Sundar', 45), ('Satyam', 46), ('Indira',52)]\n",
    "# Create dataframe\n",
    "df = pd.DataFrame(data, columns=['Name','Age'])\n",
    "# Print dataframe header\n",
    "df.head()\n"
   ]
  },
  {
   "cell_type": "markdown",
   "id": "a81876b6",
   "metadata": {},
   "source": [
    "In the preceding code, the DataFrame is created using a list of tuples. In the list, each item is\n",
    "a tuple and each tuple is equivalent to the row of columns.m"
   ]
  },
  {
   "cell_type": "markdown",
   "id": "084819e9",
   "metadata": {},
   "source": [
    "# Using pandas Series"
   ]
  },
  {
   "cell_type": "markdown",
   "id": "d03d63cf",
   "metadata": {},
   "source": [
    "pandas Series is a one-dimensional sequential data structure that is able to handle any type\n",
    "of data, such as string, numeric, datetime, Python lists, and dictionaries with labels and\n",
    "indexes. Series is one of the columns of a DataFrame. We can create a Series using a Python\n",
    "dictionary, NumPy array, and scalar value. We will also see the pandas Series features and\n",
    "properties in the latter part of the section. Let's create some Python Series:\n"
   ]
  },
  {
   "cell_type": "markdown",
   "id": "7f47ee50",
   "metadata": {},
   "source": [
    "Using a Python dictionary: Create a dictionary object and pass it to the Series\n",
    "object. Let's see the following example:\n"
   ]
  },
  {
   "cell_type": "code",
   "execution_count": 8,
   "id": "fa7ab2d0",
   "metadata": {},
   "outputs": [
    {
     "data": {
      "text/plain": [
       "0     ajay\n",
       "1      jay\n",
       "2    vijay\n",
       "dtype: object"
      ]
     },
     "execution_count": 8,
     "metadata": {},
     "output_type": "execute_result"
    }
   ],
   "source": [
    "# dictionary\n",
    "dict1={0:'ajay',1:'jay',2:'vijay'}\n",
    "\n",
    "# create pandas series\n",
    "series=pd.Series(dict1)\n",
    "series"
   ]
  },
  {
   "cell_type": "markdown",
   "id": "b1615a64",
   "metadata": {},
   "source": [
    "Using a NumPy array: Create a NumPy array object and pass it to the Series\n",
    "object. Let's see the following example:\n"
   ]
  },
  {
   "cell_type": "code",
   "execution_count": 10,
   "id": "1ce4c384",
   "metadata": {},
   "outputs": [
    {
     "data": {
      "text/plain": [
       "0     2\n",
       "1     2\n",
       "2     3\n",
       "3    23\n",
       "4    23\n",
       "5     2\n",
       "6     3\n",
       "7    23\n",
       "dtype: int32"
      ]
     },
     "execution_count": 10,
     "metadata": {},
     "output_type": "execute_result"
    }
   ],
   "source": [
    "import numpy as np\n",
    "arr=np.array([2,2,3,23,23,2,3,23])\n",
    "\n",
    "# create pandas series\n",
    "series=pd.Series(arr)\n",
    "series"
   ]
  },
  {
   "cell_type": "markdown",
   "id": "ea1cc35a",
   "metadata": {},
   "source": [
    "Using a single scalar value: To create a pandas Series with a scalar value, pass\n",
    "the scalar value and index list to a Series object:"
   ]
  },
  {
   "cell_type": "code",
   "execution_count": 11,
   "id": "4f8a2234",
   "metadata": {},
   "outputs": [
    {
     "data": {
      "text/plain": [
       "0    10\n",
       "1    10\n",
       "2    10\n",
       "3    10\n",
       "4    10\n",
       "5    10\n",
       "dtype: int64"
      ]
     },
     "execution_count": 11,
     "metadata": {},
     "output_type": "execute_result"
    }
   ],
   "source": [
    "#create pandas series\n",
    "series=pd.Series(10,index=[0,1,2,3,4,5])\n",
    "series"
   ]
  },
  {
   "cell_type": "code",
   "execution_count": 12,
   "id": "afaed7bd",
   "metadata": {},
   "outputs": [],
   "source": [
    "#load data using read_csv\n",
    "df=pd.read_csv('top_sadhguru_subreddit_posts.csv')"
   ]
  },
  {
   "cell_type": "code",
   "execution_count": 13,
   "id": "68379395",
   "metadata": {},
   "outputs": [
    {
     "data": {
      "text/html": [
       "<div>\n",
       "<style scoped>\n",
       "    .dataframe tbody tr th:only-of-type {\n",
       "        vertical-align: middle;\n",
       "    }\n",
       "\n",
       "    .dataframe tbody tr th {\n",
       "        vertical-align: top;\n",
       "    }\n",
       "\n",
       "    .dataframe thead th {\n",
       "        text-align: right;\n",
       "    }\n",
       "</style>\n",
       "<table border=\"1\" class=\"dataframe\">\n",
       "  <thead>\n",
       "    <tr style=\"text-align: right;\">\n",
       "      <th></th>\n",
       "      <th>Unnamed: 0</th>\n",
       "      <th>title</th>\n",
       "      <th>score</th>\n",
       "      <th>id</th>\n",
       "      <th>subreddit</th>\n",
       "      <th>url</th>\n",
       "      <th>num_comments</th>\n",
       "      <th>body</th>\n",
       "      <th>created</th>\n",
       "    </tr>\n",
       "  </thead>\n",
       "  <tbody>\n",
       "    <tr>\n",
       "      <th>0</th>\n",
       "      <td>0</td>\n",
       "      <td>The objective of the Inner Engineering course ...</td>\n",
       "      <td>108</td>\n",
       "      <td>p0vfn6</td>\n",
       "      <td>Sadhguru</td>\n",
       "      <td>https://isha.co/IEO-Quora</td>\n",
       "      <td>10</td>\n",
       "      <td>NaN</td>\n",
       "      <td>1.628489e+09</td>\n",
       "    </tr>\n",
       "    <tr>\n",
       "      <th>1</th>\n",
       "      <td>1</td>\n",
       "      <td>What should I do for a daily practice?</td>\n",
       "      <td>5</td>\n",
       "      <td>suwceh</td>\n",
       "      <td>Sadhguru</td>\n",
       "      <td>https://www.reddit.com/r/Sadhguru/comments/suw...</td>\n",
       "      <td>6</td>\n",
       "      <td>I finished inner engineering online about a we...</td>\n",
       "      <td>1.645124e+09</td>\n",
       "    </tr>\n",
       "    <tr>\n",
       "      <th>2</th>\n",
       "      <td>2</td>\n",
       "      <td>Is Shoonya intensive taught by Sadhguru himself</td>\n",
       "      <td>6</td>\n",
       "      <td>susuo0</td>\n",
       "      <td>Sadhguru</td>\n",
       "      <td>https://www.reddit.com/r/Sadhguru/comments/sus...</td>\n",
       "      <td>10</td>\n",
       "      <td>Namaskaram, everytime that Shoonya is taught a...</td>\n",
       "      <td>1.645115e+09</td>\n",
       "    </tr>\n",
       "    <tr>\n",
       "      <th>3</th>\n",
       "      <td>3</td>\n",
       "      <td>What Will World Look Like in 22 Years? #Consci...</td>\n",
       "      <td>1</td>\n",
       "      <td>sv4z4j</td>\n",
       "      <td>Sadhguru</td>\n",
       "      <td>https://www.youtube.com/watch?v=p4JqihR0wts</td>\n",
       "      <td>0</td>\n",
       "      <td>NaN</td>\n",
       "      <td>1.645147e+09</td>\n",
       "    </tr>\n",
       "    <tr>\n",
       "      <th>4</th>\n",
       "      <td>4</td>\n",
       "      <td>I was planning on starting on neem and turmeri...</td>\n",
       "      <td>8</td>\n",
       "      <td>sup4dy</td>\n",
       "      <td>Sadhguru</td>\n",
       "      <td>https://www.reddit.com/r/Sadhguru/comments/sup...</td>\n",
       "      <td>4</td>\n",
       "      <td>NaN</td>\n",
       "      <td>1.645105e+09</td>\n",
       "    </tr>\n",
       "  </tbody>\n",
       "</table>\n",
       "</div>"
      ],
      "text/plain": [
       "   Unnamed: 0                                              title  score  \\\n",
       "0           0  The objective of the Inner Engineering course ...    108   \n",
       "1           1             What should I do for a daily practice?      5   \n",
       "2           2    Is Shoonya intensive taught by Sadhguru himself      6   \n",
       "3           3  What Will World Look Like in 22 Years? #Consci...      1   \n",
       "4           4  I was planning on starting on neem and turmeri...      8   \n",
       "\n",
       "       id subreddit                                                url  \\\n",
       "0  p0vfn6  Sadhguru                          https://isha.co/IEO-Quora   \n",
       "1  suwceh  Sadhguru  https://www.reddit.com/r/Sadhguru/comments/suw...   \n",
       "2  susuo0  Sadhguru  https://www.reddit.com/r/Sadhguru/comments/sus...   \n",
       "3  sv4z4j  Sadhguru        https://www.youtube.com/watch?v=p4JqihR0wts   \n",
       "4  sup4dy  Sadhguru  https://www.reddit.com/r/Sadhguru/comments/sup...   \n",
       "\n",
       "   num_comments                                               body  \\\n",
       "0            10                                                NaN   \n",
       "1             6  I finished inner engineering online about a we...   \n",
       "2            10  Namaskaram, everytime that Shoonya is taught a...   \n",
       "3             0                                                NaN   \n",
       "4             4                                                NaN   \n",
       "\n",
       "        created  \n",
       "0  1.628489e+09  \n",
       "1  1.645124e+09  \n",
       "2  1.645115e+09  \n",
       "3  1.645147e+09  \n",
       "4  1.645105e+09  "
      ]
     },
     "execution_count": 13,
     "metadata": {},
     "output_type": "execute_result"
    }
   ],
   "source": [
    "df.head()"
   ]
  },
  {
   "cell_type": "code",
   "execution_count": 15,
   "id": "41af4661",
   "metadata": {},
   "outputs": [
    {
     "data": {
      "text/plain": [
       "0      The objective of the Inner Engineering course ...\n",
       "1                 What should I do for a daily practice?\n",
       "2        Is Shoonya intensive taught by Sadhguru himself\n",
       "3      What Will World Look Like in 22 Years? #Consci...\n",
       "4      I was planning on starting on neem and turmeri...\n",
       "                             ...                        \n",
       "295    EP 05 - Utah’s Miracle Rocks - Part 1 | Ride w...\n",
       "296                                      2021 Highlights\n",
       "297    What is the chant he often does at the beginni...\n",
       "298                         How did Isha yoga save you ?\n",
       "299          There are three versions of Hindu calendar.\n",
       "Name: title, Length: 300, dtype: object"
      ]
     },
     "execution_count": 15,
     "metadata": {},
     "output_type": "execute_result"
    }
   ],
   "source": [
    "titleseries=df['title']\n",
    "titleseries"
   ]
  },
  {
   "cell_type": "code",
   "execution_count": 16,
   "id": "a2279033",
   "metadata": {},
   "outputs": [
    {
     "data": {
      "text/plain": [
       "pandas.core.series.Series"
      ]
     },
     "execution_count": 16,
     "metadata": {},
     "output_type": "execute_result"
    }
   ],
   "source": [
    "type(titleseries)"
   ]
  },
  {
   "cell_type": "code",
   "execution_count": 18,
   "id": "409c5bef",
   "metadata": {},
   "outputs": [
    {
     "data": {
      "text/plain": [
       "(300, 9)"
      ]
     },
     "execution_count": 18,
     "metadata": {},
     "output_type": "execute_result"
    }
   ],
   "source": [
    "df.shape"
   ]
  },
  {
   "cell_type": "code",
   "execution_count": 19,
   "id": "9ed88c0c",
   "metadata": {},
   "outputs": [
    {
     "data": {
      "text/plain": [
       "Index(['Unnamed: 0', 'title', 'score', 'id', 'subreddit', 'url',\n",
       "       'num_comments', 'body', 'created'],\n",
       "      dtype='object')"
      ]
     },
     "execution_count": 19,
     "metadata": {},
     "output_type": "execute_result"
    }
   ],
   "source": [
    "df.columns"
   ]
  },
  {
   "cell_type": "code",
   "execution_count": 20,
   "id": "81464d3c",
   "metadata": {},
   "outputs": [
    {
     "data": {
      "text/plain": [
       "Unnamed: 0        int64\n",
       "title            object\n",
       "score             int64\n",
       "id               object\n",
       "subreddit        object\n",
       "url              object\n",
       "num_comments      int64\n",
       "body             object\n",
       "created         float64\n",
       "dtype: object"
      ]
     },
     "execution_count": 20,
     "metadata": {},
     "output_type": "execute_result"
    }
   ],
   "source": [
    "df.dtypes"
   ]
  },
  {
   "cell_type": "code",
   "execution_count": 23,
   "id": "42dc54b7",
   "metadata": {},
   "outputs": [
    {
     "data": {
      "text/plain": [
       "295    EP 05 - Utah’s Miracle Rocks - Part 1 | Ride w...\n",
       "294    1 New Year's Resolution You Must Take! | Sadhg...\n",
       "293    Just love the way he is calm and tells everyth...\n",
       "292    Of Mark Twain, Ecstasy & Enlightenment – Autho...\n",
       "291    What meditation is recommended next after Isha...\n",
       "290                            Finally it is happening..\n",
       "289    How long do you guys sleep , has anyone succes...\n",
       "288    Rudraksha Diksha Initiation with Sadhguru - On...\n",
       "287    That sounds easy but i wonder if doing it is t...\n",
       "286    Sadhguru in a rap song? Does anyone know the f...\n",
       "285             Thoughts are useful, but not dependable.\n",
       "284        What's been your experience with Surya Kriya?\n",
       "283    Yoga for people who are uncoordinated? Having ...\n",
       "282    On this native American journey Sadhguru explo...\n",
       "281    Difference between Nadi Shuddhi and Nadhi shod...\n",
       "280    Love is not something that you do. Love is som...\n",
       "279              This book by sadhguru is an eye opener.\n",
       "278                     Tips To Sleep Well From Sadhguru\n",
       "277      The Fierce Yogis of Southern Kailash | Sadhguru\n",
       "276                                     Remind yourself!\n",
       "275    Can someone provide details for shoonya medita...\n",
       "274                                            Yogasanas\n",
       "273                         One can do what they thought\n",
       "272                 Free Hindu Temples From Govt Control\n",
       "271                                        Value of mind\n",
       "270                 What yoga should I do as a beginner?\n",
       "269    It's Good to Be Selfish | Sadhguru #shorts #sa...\n",
       "268    I was so into hiaku for short rhythmic stance....\n",
       "267                                ..... And now, Yoga !\n",
       "266       What do you do the first thing in the morning?\n",
       "265    How long to wait after smoking weed to do Sham...\n",
       "264       Jusy total involvement... Trying to do this...\n",
       "263    Kali Yuga – The Science Behind the Cycle of Yu...\n",
       "262           The Amazing Power Of Your Spine – Sadhguru\n",
       "261          You can find Sadhguru's latest videos here!\n",
       "260    Is there any significance for 48hours fast in ...\n",
       "259                       How to manifest what you want?\n",
       "258    Sadhguru's Skydiving Adventure – Treasured Mom...\n",
       "257                           Holding Memory at Distance\n",
       "256    The recipes in this book are so so so amazing....\n",
       "255       Am I doing the right or wrong thing. #sadhguru\n",
       "254    Ep 07 - Spirit of the Grand Canyon | Ride with...\n",
       "253    Alright so I think I kinda had a wrong idea ab...\n",
       "252                                      Purpose of Life\n",
       "251    Sadhguru: Can Women Succeed in Today's Modern ...\n",
       "Name: title, dtype: object"
      ]
     },
     "execution_count": 23,
     "metadata": {},
     "output_type": "execute_result"
    }
   ],
   "source": [
    "# pandas series slicing\n",
    "titleseries[-5:250:-1]"
   ]
  },
  {
   "cell_type": "code",
   "execution_count": 24,
   "id": "491cb1e3",
   "metadata": {},
   "outputs": [
    {
     "data": {
      "text/html": [
       "<div>\n",
       "<style scoped>\n",
       "    .dataframe tbody tr th:only-of-type {\n",
       "        vertical-align: middle;\n",
       "    }\n",
       "\n",
       "    .dataframe tbody tr th {\n",
       "        vertical-align: top;\n",
       "    }\n",
       "\n",
       "    .dataframe thead th {\n",
       "        text-align: right;\n",
       "    }\n",
       "</style>\n",
       "<table border=\"1\" class=\"dataframe\">\n",
       "  <thead>\n",
       "    <tr style=\"text-align: right;\">\n",
       "      <th></th>\n",
       "      <th>Unnamed: 0</th>\n",
       "      <th>title</th>\n",
       "      <th>score</th>\n",
       "      <th>id</th>\n",
       "      <th>subreddit</th>\n",
       "      <th>url</th>\n",
       "      <th>num_comments</th>\n",
       "      <th>body</th>\n",
       "      <th>created</th>\n",
       "    </tr>\n",
       "  </thead>\n",
       "  <tbody>\n",
       "    <tr>\n",
       "      <th>295</th>\n",
       "      <td>295</td>\n",
       "      <td>EP 05 - Utah’s Miracle Rocks - Part 1 | Ride w...</td>\n",
       "      <td>3</td>\n",
       "      <td>rtsw70</td>\n",
       "      <td>Sadhguru</td>\n",
       "      <td>https://www.youtube.com/watch?v=fTLeD70J9jo</td>\n",
       "      <td>0</td>\n",
       "      <td>NaN</td>\n",
       "      <td>1.641072e+09</td>\n",
       "    </tr>\n",
       "    <tr>\n",
       "      <th>296</th>\n",
       "      <td>296</td>\n",
       "      <td>2021 Highlights</td>\n",
       "      <td>19</td>\n",
       "      <td>rtg5qi</td>\n",
       "      <td>Sadhguru</td>\n",
       "      <td>https://v.redd.it/4bh1952hr1981</td>\n",
       "      <td>1</td>\n",
       "      <td>NaN</td>\n",
       "      <td>1.641030e+09</td>\n",
       "    </tr>\n",
       "    <tr>\n",
       "      <th>297</th>\n",
       "      <td>297</td>\n",
       "      <td>What is the chant he often does at the beginni...</td>\n",
       "      <td>3</td>\n",
       "      <td>rtmxwf</td>\n",
       "      <td>Sadhguru</td>\n",
       "      <td>https://www.reddit.com/r/Sadhguru/comments/rtm...</td>\n",
       "      <td>2</td>\n",
       "      <td>Can somebody give me the name? Id love to find...</td>\n",
       "      <td>1.641055e+09</td>\n",
       "    </tr>\n",
       "    <tr>\n",
       "      <th>298</th>\n",
       "      <td>298</td>\n",
       "      <td>How did Isha yoga save you ?</td>\n",
       "      <td>61</td>\n",
       "      <td>rsrgx1</td>\n",
       "      <td>Sadhguru</td>\n",
       "      <td>https://i.redd.it/qnmhtjdszu881.png</td>\n",
       "      <td>6</td>\n",
       "      <td>NaN</td>\n",
       "      <td>1.640948e+09</td>\n",
       "    </tr>\n",
       "    <tr>\n",
       "      <th>299</th>\n",
       "      <td>299</td>\n",
       "      <td>There are three versions of Hindu calendar.</td>\n",
       "      <td>28</td>\n",
       "      <td>rsrhdo</td>\n",
       "      <td>Sadhguru</td>\n",
       "      <td>https://v.redd.it/0qh4orcxzu881</td>\n",
       "      <td>0</td>\n",
       "      <td>NaN</td>\n",
       "      <td>1.640948e+09</td>\n",
       "    </tr>\n",
       "  </tbody>\n",
       "</table>\n",
       "</div>"
      ],
      "text/plain": [
       "     Unnamed: 0                                              title  score  \\\n",
       "295         295  EP 05 - Utah’s Miracle Rocks - Part 1 | Ride w...      3   \n",
       "296         296                                    2021 Highlights     19   \n",
       "297         297  What is the chant he often does at the beginni...      3   \n",
       "298         298                       How did Isha yoga save you ?     61   \n",
       "299         299        There are three versions of Hindu calendar.     28   \n",
       "\n",
       "         id subreddit                                                url  \\\n",
       "295  rtsw70  Sadhguru        https://www.youtube.com/watch?v=fTLeD70J9jo   \n",
       "296  rtg5qi  Sadhguru                    https://v.redd.it/4bh1952hr1981   \n",
       "297  rtmxwf  Sadhguru  https://www.reddit.com/r/Sadhguru/comments/rtm...   \n",
       "298  rsrgx1  Sadhguru                https://i.redd.it/qnmhtjdszu881.png   \n",
       "299  rsrhdo  Sadhguru                    https://v.redd.it/0qh4orcxzu881   \n",
       "\n",
       "     num_comments                                               body  \\\n",
       "295             0                                                NaN   \n",
       "296             1                                                NaN   \n",
       "297             2  Can somebody give me the name? Id love to find...   \n",
       "298             6                                                NaN   \n",
       "299             0                                                NaN   \n",
       "\n",
       "          created  \n",
       "295  1.641072e+09  \n",
       "296  1.641030e+09  \n",
       "297  1.641055e+09  \n",
       "298  1.640948e+09  \n",
       "299  1.640948e+09  "
      ]
     },
     "execution_count": 24,
     "metadata": {},
     "output_type": "execute_result"
    }
   ],
   "source": [
    "df.tail()"
   ]
  },
  {
   "cell_type": "markdown",
   "id": "401cdbd4",
   "metadata": {},
   "source": [
    "Filtering columns: pandas offers the ability to select columns. Let's select\n",
    "columns in a pandas DataFrame:"
   ]
  },
  {
   "cell_type": "code",
   "execution_count": 25,
   "id": "40407066",
   "metadata": {},
   "outputs": [],
   "source": [
    "df=df[['title','id']]"
   ]
  },
  {
   "cell_type": "code",
   "execution_count": 26,
   "id": "a08d63e6",
   "metadata": {},
   "outputs": [
    {
     "data": {
      "text/html": [
       "<div>\n",
       "<style scoped>\n",
       "    .dataframe tbody tr th:only-of-type {\n",
       "        vertical-align: middle;\n",
       "    }\n",
       "\n",
       "    .dataframe tbody tr th {\n",
       "        vertical-align: top;\n",
       "    }\n",
       "\n",
       "    .dataframe thead th {\n",
       "        text-align: right;\n",
       "    }\n",
       "</style>\n",
       "<table border=\"1\" class=\"dataframe\">\n",
       "  <thead>\n",
       "    <tr style=\"text-align: right;\">\n",
       "      <th></th>\n",
       "      <th>title</th>\n",
       "      <th>id</th>\n",
       "    </tr>\n",
       "  </thead>\n",
       "  <tbody>\n",
       "    <tr>\n",
       "      <th>0</th>\n",
       "      <td>The objective of the Inner Engineering course ...</td>\n",
       "      <td>p0vfn6</td>\n",
       "    </tr>\n",
       "    <tr>\n",
       "      <th>1</th>\n",
       "      <td>What should I do for a daily practice?</td>\n",
       "      <td>suwceh</td>\n",
       "    </tr>\n",
       "    <tr>\n",
       "      <th>2</th>\n",
       "      <td>Is Shoonya intensive taught by Sadhguru himself</td>\n",
       "      <td>susuo0</td>\n",
       "    </tr>\n",
       "    <tr>\n",
       "      <th>3</th>\n",
       "      <td>What Will World Look Like in 22 Years? #Consci...</td>\n",
       "      <td>sv4z4j</td>\n",
       "    </tr>\n",
       "    <tr>\n",
       "      <th>4</th>\n",
       "      <td>I was planning on starting on neem and turmeri...</td>\n",
       "      <td>sup4dy</td>\n",
       "    </tr>\n",
       "    <tr>\n",
       "      <th>...</th>\n",
       "      <td>...</td>\n",
       "      <td>...</td>\n",
       "    </tr>\n",
       "    <tr>\n",
       "      <th>295</th>\n",
       "      <td>EP 05 - Utah’s Miracle Rocks - Part 1 | Ride w...</td>\n",
       "      <td>rtsw70</td>\n",
       "    </tr>\n",
       "    <tr>\n",
       "      <th>296</th>\n",
       "      <td>2021 Highlights</td>\n",
       "      <td>rtg5qi</td>\n",
       "    </tr>\n",
       "    <tr>\n",
       "      <th>297</th>\n",
       "      <td>What is the chant he often does at the beginni...</td>\n",
       "      <td>rtmxwf</td>\n",
       "    </tr>\n",
       "    <tr>\n",
       "      <th>298</th>\n",
       "      <td>How did Isha yoga save you ?</td>\n",
       "      <td>rsrgx1</td>\n",
       "    </tr>\n",
       "    <tr>\n",
       "      <th>299</th>\n",
       "      <td>There are three versions of Hindu calendar.</td>\n",
       "      <td>rsrhdo</td>\n",
       "    </tr>\n",
       "  </tbody>\n",
       "</table>\n",
       "<p>300 rows × 2 columns</p>\n",
       "</div>"
      ],
      "text/plain": [
       "                                                 title      id\n",
       "0    The objective of the Inner Engineering course ...  p0vfn6\n",
       "1               What should I do for a daily practice?  suwceh\n",
       "2      Is Shoonya intensive taught by Sadhguru himself  susuo0\n",
       "3    What Will World Look Like in 22 Years? #Consci...  sv4z4j\n",
       "4    I was planning on starting on neem and turmeri...  sup4dy\n",
       "..                                                 ...     ...\n",
       "295  EP 05 - Utah’s Miracle Rocks - Part 1 | Ride w...  rtsw70\n",
       "296                                    2021 Highlights  rtg5qi\n",
       "297  What is the chant he often does at the beginni...  rtmxwf\n",
       "298                       How did Isha yoga save you ?  rsrgx1\n",
       "299        There are three versions of Hindu calendar.  rsrhdo\n",
       "\n",
       "[300 rows x 2 columns]"
      ]
     },
     "execution_count": 26,
     "metadata": {},
     "output_type": "execute_result"
    }
   ],
   "source": [
    "df\n"
   ]
  },
  {
   "cell_type": "markdown",
   "id": "bfe8ea09",
   "metadata": {},
   "source": [
    "Filtering rows: pandas offers the ability to select rows. Let's select rows in a\n",
    "pandas DataFrame:\n"
   ]
  },
  {
   "cell_type": "code",
   "execution_count": 28,
   "id": "0b61db51",
   "metadata": {},
   "outputs": [
    {
     "data": {
      "text/html": [
       "<div>\n",
       "<style scoped>\n",
       "    .dataframe tbody tr th:only-of-type {\n",
       "        vertical-align: middle;\n",
       "    }\n",
       "\n",
       "    .dataframe tbody tr th {\n",
       "        vertical-align: top;\n",
       "    }\n",
       "\n",
       "    .dataframe thead th {\n",
       "        text-align: right;\n",
       "    }\n",
       "</style>\n",
       "<table border=\"1\" class=\"dataframe\">\n",
       "  <thead>\n",
       "    <tr style=\"text-align: right;\">\n",
       "      <th></th>\n",
       "      <th>title</th>\n",
       "      <th>id</th>\n",
       "    </tr>\n",
       "  </thead>\n",
       "  <tbody>\n",
       "    <tr>\n",
       "      <th>30</th>\n",
       "      <td>Adiyogi Wallpapers - Adiyogi wallpapers for yo...</td>\n",
       "      <td>ssh6p4</td>\n",
       "    </tr>\n",
       "    <tr>\n",
       "      <th>31</th>\n",
       "      <td>No soil - No food - No life.. we have to act n...</td>\n",
       "      <td>ss46sn</td>\n",
       "    </tr>\n",
       "    <tr>\n",
       "      <th>32</th>\n",
       "      <td>Reducing sleep quota plus working out.</td>\n",
       "      <td>ssl5be</td>\n",
       "    </tr>\n",
       "    <tr>\n",
       "      <th>33</th>\n",
       "      <td>From America to South Kailash! | Shivanga</td>\n",
       "      <td>ssap7y</td>\n",
       "    </tr>\n",
       "  </tbody>\n",
       "</table>\n",
       "</div>"
      ],
      "text/plain": [
       "                                                title      id\n",
       "30  Adiyogi Wallpapers - Adiyogi wallpapers for yo...  ssh6p4\n",
       "31  No soil - No food - No life.. we have to act n...  ss46sn\n",
       "32             Reducing sleep quota plus working out.  ssl5be\n",
       "33          From America to South Kailash! | Shivanga  ssap7y"
      ]
     },
     "execution_count": 28,
     "metadata": {},
     "output_type": "execute_result"
    }
   ],
   "source": [
    "# Select rows using index\n",
    "df[30:34]"
   ]
  },
  {
   "cell_type": "markdown",
   "id": "3c1b7c0a",
   "metadata": {},
   "source": [
    "Boolean filtering: We can query data using Boolean conditions similar to the\n",
    "WHERE clause condition of SQL. Let's filter the data greater than the arithmetic\n",
    "mean:"
   ]
  },
  {
   "cell_type": "code",
   "execution_count": 31,
   "id": "84445fce",
   "metadata": {},
   "outputs": [
    {
     "data": {
      "text/html": [
       "<div>\n",
       "<style scoped>\n",
       "    .dataframe tbody tr th:only-of-type {\n",
       "        vertical-align: middle;\n",
       "    }\n",
       "\n",
       "    .dataframe tbody tr th {\n",
       "        vertical-align: top;\n",
       "    }\n",
       "\n",
       "    .dataframe thead th {\n",
       "        text-align: right;\n",
       "    }\n",
       "</style>\n",
       "<table border=\"1\" class=\"dataframe\">\n",
       "  <thead>\n",
       "    <tr style=\"text-align: right;\">\n",
       "      <th></th>\n",
       "      <th>Unnamed: 0</th>\n",
       "      <th>title</th>\n",
       "      <th>score</th>\n",
       "      <th>id</th>\n",
       "      <th>subreddit</th>\n",
       "      <th>url</th>\n",
       "      <th>num_comments</th>\n",
       "      <th>body</th>\n",
       "      <th>created</th>\n",
       "    </tr>\n",
       "  </thead>\n",
       "  <tbody>\n",
       "    <tr>\n",
       "      <th>0</th>\n",
       "      <td>0</td>\n",
       "      <td>The objective of the Inner Engineering course ...</td>\n",
       "      <td>108</td>\n",
       "      <td>p0vfn6</td>\n",
       "      <td>Sadhguru</td>\n",
       "      <td>https://isha.co/IEO-Quora</td>\n",
       "      <td>10</td>\n",
       "      <td>NaN</td>\n",
       "      <td>1.628489e+09</td>\n",
       "    </tr>\n",
       "    <tr>\n",
       "      <th>5</th>\n",
       "      <td>5</td>\n",
       "      <td>Practicing Yogasanas has been life changing fo...</td>\n",
       "      <td>45</td>\n",
       "      <td>sufcgb</td>\n",
       "      <td>Sadhguru</td>\n",
       "      <td>https://i.redd.it/zu542r19hbi81.jpg</td>\n",
       "      <td>3</td>\n",
       "      <td>NaN</td>\n",
       "      <td>1.645070e+09</td>\n",
       "    </tr>\n",
       "    <tr>\n",
       "      <th>11</th>\n",
       "      <td>11</td>\n",
       "      <td>How to control the mind?</td>\n",
       "      <td>32</td>\n",
       "      <td>stw0kd</td>\n",
       "      <td>Sadhguru</td>\n",
       "      <td>https://v.redd.it/zbdb2s0s67i81</td>\n",
       "      <td>1</td>\n",
       "      <td>NaN</td>\n",
       "      <td>1.645018e+09</td>\n",
       "    </tr>\n",
       "    <tr>\n",
       "      <th>12</th>\n",
       "      <td>12</td>\n",
       "      <td>Yoga means union. When an individual achieves ...</td>\n",
       "      <td>21</td>\n",
       "      <td>stvewl</td>\n",
       "      <td>Sadhguru</td>\n",
       "      <td>https://i.redd.it/apgsllzg17i81.jpg</td>\n",
       "      <td>3</td>\n",
       "      <td>NaN</td>\n",
       "      <td>1.645017e+09</td>\n",
       "    </tr>\n",
       "    <tr>\n",
       "      <th>14</th>\n",
       "      <td>14</td>\n",
       "      <td>Trying to look like this after a few yoga cent...</td>\n",
       "      <td>41</td>\n",
       "      <td>stm8h1</td>\n",
       "      <td>Sadhguru</td>\n",
       "      <td>https://i.redd.it/ptqsb0iib4i81.jpg</td>\n",
       "      <td>7</td>\n",
       "      <td>NaN</td>\n",
       "      <td>1.644984e+09</td>\n",
       "    </tr>\n",
       "    <tr>\n",
       "      <th>...</th>\n",
       "      <td>...</td>\n",
       "      <td>...</td>\n",
       "      <td>...</td>\n",
       "      <td>...</td>\n",
       "      <td>...</td>\n",
       "      <td>...</td>\n",
       "      <td>...</td>\n",
       "      <td>...</td>\n",
       "      <td>...</td>\n",
       "    </tr>\n",
       "    <tr>\n",
       "      <th>286</th>\n",
       "      <td>286</td>\n",
       "      <td>Sadhguru in a rap song? Does anyone know the f...</td>\n",
       "      <td>41</td>\n",
       "      <td>ruza9a</td>\n",
       "      <td>Sadhguru</td>\n",
       "      <td>https://v.redd.it/oe0qox99gg981</td>\n",
       "      <td>7</td>\n",
       "      <td>NaN</td>\n",
       "      <td>1.641208e+09</td>\n",
       "    </tr>\n",
       "    <tr>\n",
       "      <th>290</th>\n",
       "      <td>290</td>\n",
       "      <td>Finally it is happening..</td>\n",
       "      <td>26</td>\n",
       "      <td>ru5uhi</td>\n",
       "      <td>Sadhguru</td>\n",
       "      <td>https://i.redd.it/08ixb83hp8981.jpg</td>\n",
       "      <td>5</td>\n",
       "      <td>NaN</td>\n",
       "      <td>1.641114e+09</td>\n",
       "    </tr>\n",
       "    <tr>\n",
       "      <th>293</th>\n",
       "      <td>293</td>\n",
       "      <td>Just love the way he is calm and tells everyth...</td>\n",
       "      <td>51</td>\n",
       "      <td>rtfkvc</td>\n",
       "      <td>Sadhguru</td>\n",
       "      <td>https://v.redd.it/h7ym1ywxj1981</td>\n",
       "      <td>0</td>\n",
       "      <td>NaN</td>\n",
       "      <td>1.641028e+09</td>\n",
       "    </tr>\n",
       "    <tr>\n",
       "      <th>298</th>\n",
       "      <td>298</td>\n",
       "      <td>How did Isha yoga save you ?</td>\n",
       "      <td>61</td>\n",
       "      <td>rsrgx1</td>\n",
       "      <td>Sadhguru</td>\n",
       "      <td>https://i.redd.it/qnmhtjdszu881.png</td>\n",
       "      <td>6</td>\n",
       "      <td>NaN</td>\n",
       "      <td>1.640948e+09</td>\n",
       "    </tr>\n",
       "    <tr>\n",
       "      <th>299</th>\n",
       "      <td>299</td>\n",
       "      <td>There are three versions of Hindu calendar.</td>\n",
       "      <td>28</td>\n",
       "      <td>rsrhdo</td>\n",
       "      <td>Sadhguru</td>\n",
       "      <td>https://v.redd.it/0qh4orcxzu881</td>\n",
       "      <td>0</td>\n",
       "      <td>NaN</td>\n",
       "      <td>1.640948e+09</td>\n",
       "    </tr>\n",
       "  </tbody>\n",
       "</table>\n",
       "<p>132 rows × 9 columns</p>\n",
       "</div>"
      ],
      "text/plain": [
       "     Unnamed: 0                                              title  score  \\\n",
       "0             0  The objective of the Inner Engineering course ...    108   \n",
       "5             5  Practicing Yogasanas has been life changing fo...     45   \n",
       "11           11                           How to control the mind?     32   \n",
       "12           12  Yoga means union. When an individual achieves ...     21   \n",
       "14           14  Trying to look like this after a few yoga cent...     41   \n",
       "..          ...                                                ...    ...   \n",
       "286         286  Sadhguru in a rap song? Does anyone know the f...     41   \n",
       "290         290                          Finally it is happening..     26   \n",
       "293         293  Just love the way he is calm and tells everyth...     51   \n",
       "298         298                       How did Isha yoga save you ?     61   \n",
       "299         299        There are three versions of Hindu calendar.     28   \n",
       "\n",
       "         id subreddit                                  url  num_comments body  \\\n",
       "0    p0vfn6  Sadhguru            https://isha.co/IEO-Quora            10  NaN   \n",
       "5    sufcgb  Sadhguru  https://i.redd.it/zu542r19hbi81.jpg             3  NaN   \n",
       "11   stw0kd  Sadhguru      https://v.redd.it/zbdb2s0s67i81             1  NaN   \n",
       "12   stvewl  Sadhguru  https://i.redd.it/apgsllzg17i81.jpg             3  NaN   \n",
       "14   stm8h1  Sadhguru  https://i.redd.it/ptqsb0iib4i81.jpg             7  NaN   \n",
       "..      ...       ...                                  ...           ...  ...   \n",
       "286  ruza9a  Sadhguru      https://v.redd.it/oe0qox99gg981             7  NaN   \n",
       "290  ru5uhi  Sadhguru  https://i.redd.it/08ixb83hp8981.jpg             5  NaN   \n",
       "293  rtfkvc  Sadhguru      https://v.redd.it/h7ym1ywxj1981             0  NaN   \n",
       "298  rsrgx1  Sadhguru  https://i.redd.it/qnmhtjdszu881.png             6  NaN   \n",
       "299  rsrhdo  Sadhguru      https://v.redd.it/0qh4orcxzu881             0  NaN   \n",
       "\n",
       "          created  \n",
       "0    1.628489e+09  \n",
       "5    1.645070e+09  \n",
       "11   1.645018e+09  \n",
       "12   1.645017e+09  \n",
       "14   1.644984e+09  \n",
       "..            ...  \n",
       "286  1.641208e+09  \n",
       "290  1.641114e+09  \n",
       "293  1.641028e+09  \n",
       "298  1.640948e+09  \n",
       "299  1.640948e+09  \n",
       "\n",
       "[132 rows x 9 columns]"
      ]
     },
     "execution_count": 31,
     "metadata": {},
     "output_type": "execute_result"
    }
   ],
   "source": [
    "df=pd.read_csv('top_sadhguru_subreddit_posts.csv')\n",
    "df[df['score']>df['score'].mean()]"
   ]
  },
  {
   "cell_type": "markdown",
   "id": "13d749cb",
   "metadata": {},
   "source": [
    " # Describing pandas dataframes"
   ]
  },
  {
   "cell_type": "markdown",
   "id": "6eac8bb7",
   "metadata": {},
   "source": [
    "The pandas DataFrame has a dozen statistical methods. The following table lists these\n",
    "methods, along with a short description of each:"
   ]
  },
  {
   "cell_type": "markdown",
   "id": "f9b7ca91",
   "metadata": {},
   "source": [
    "Method Description\n",
    "describe() This method returns a small table with descriptive statistics.\n",
    "count This method returns the number of non-NaN items.\n",
    "\n",
    "mad() This method calculates the mean absolute deviation, which is a robust measure\n",
    "similar to standard deviation.\n",
    "\n",
    "median() This method returns the median. This is equivalent to the value at the 50th\n",
    "percentile.\n",
    "\n",
    "min() This method returns the minimum value.\n",
    "\n",
    "max() This method returns the maximum value.\n",
    "\n",
    "mode() This method returns the mode, which is the most frequently occurring value.\n",
    "\n",
    "std() This method returns the standard deviation, which measures dispersion. It is\n",
    "the square root of the variance.\n",
    "\n",
    "var() This method returns the variance.\n",
    "\n",
    "skew() This method returns skewness. Skewness is indicative of the distribution\n",
    "symmetry.\n",
    "\n",
    "kurt() This method returns kurtosis. Kurtosis is indicative of the distribution shape."
   ]
  },
  {
   "cell_type": "markdown",
   "id": "d7e4beca",
   "metadata": {},
   "source": [
    "# Grouping and joining pandas DataFrame"
   ]
  },
  {
   "cell_type": "markdown",
   "id": "f7483de6",
   "metadata": {},
   "source": [
    "Grouping is a kind of data aggregation operation. The grouping term is taken from a\n",
    "relational database. Relational database software uses the group by keyword to group\n",
    "similar kinds of values in a column. We can apply aggregate functions on groups such as\n",
    "mean, min, max, count, and sum. The pandas DataFrame also offers similar kinds of\n",
    "capabilities. Grouping operations are based on the split-apply-combine strategy. It first\n",
    "divides data into groups and applies the aggregate operation, such as mean, min, max,\n",
    "count, and sum, on each group and combines results from each group:"
   ]
  },
  {
   "cell_type": "code",
   "execution_count": null,
   "id": "26b00d6e",
   "metadata": {},
   "outputs": [],
   "source": [
    "# Group By DataFrame on the basis of Continent column\n",
    "df.groupby('Continent').mean()\n",
    "# Group By DataFrame on the basis of continent and select adult literacy rate(%)\n",
    "df.groupby('Continent').mean()['Adult literacy rate (%)']"
   ]
  },
  {
   "cell_type": "markdown",
   "id": "5764fc79",
   "metadata": {},
   "source": [
    "Join is a kind of merge operation for tabular databases. The join concept is taken from the\n",
    "relational database. In relational databases, tables were normalized or broken down to\n",
    "reduce redundancy and inconsistency, and join is used to select the information from\n",
    "multiple tables. A data analyst needs to combine data from multiple sources. pandas also\n",
    "offers to join functionality to join multiple DataFrames using the merge() function."
   ]
  },
  {
   "cell_type": "markdown",
   "id": "e336e869",
   "metadata": {},
   "source": [
    "Inner join: Inner join is equivalent to the intersection operation of a set. It will\n",
    "select only common records in both the DataFrames. To perform inner join, use\n",
    "the merge() function with both the DataFrames and common attribute on the\n",
    "parameter and inner value to show the parameter. The on parameter is used to\n",
    "provide the common attribute based on the join will be performed and how\n",
    "defines the type of join:\n",
    "# Join DataFrames using Inner Join\n",
    "df_inner= pd.merge(dest, tips, on='EmpNr', how='inner')\n",
    "\n",
    "df_inner.head()"
   ]
  },
  {
   "cell_type": "markdown",
   "id": "52615f69",
   "metadata": {},
   "source": [
    "Full outer join: Outer join is equivalent to a union operation of the set. It merges\n",
    "the right and left DataFrames. It will have all the records from both DataFrames\n",
    "and fills NaNs where the match will not be found:\n",
    "# Join DataFrames using Outer Join\n",
    "df_outer= pd.merg"
   ]
  },
  {
   "cell_type": "markdown",
   "id": "3d9da8ec",
   "metadata": {},
   "source": [
    "Right outer join: In the right outer join, all the records from the right side of the\n",
    "DataFrame will be selected. If the matched records cannot be found in the left\n",
    "DataFrame, then it is filled with NaNs:\n",
    "# Join DataFrames using Right Outer Join\n",
    "df_right= pd.merge(dest, tips, on='EmpNr', how='right')\n",
    "df_right.head()\n"
   ]
  },
  {
   "cell_type": "markdown",
   "id": "4ce50b4f",
   "metadata": {},
   "source": [
    "Left outer join: In the left outer join, all the records from the left side of the\n",
    "DataFrame will be selected. If the matched records cannot be found in the right\n",
    "DataFrame, then it is filled with NaNs:\n",
    "# Join DataFrames using Left Outer Join\n",
    "df_left= pd.merge(dest, tips, on='EmpNr', how='left')\n",
    "df_left.head()\n"
   ]
  },
  {
   "cell_type": "markdown",
   "id": "e78a6ec6",
   "metadata": {},
   "source": [
    "# Working with missing values"
   ]
  },
  {
   "cell_type": "code",
   "execution_count": 35,
   "id": "bc30b493",
   "metadata": {},
   "outputs": [
    {
     "data": {
      "text/html": [
       "<div>\n",
       "<style scoped>\n",
       "    .dataframe tbody tr th:only-of-type {\n",
       "        vertical-align: middle;\n",
       "    }\n",
       "\n",
       "    .dataframe tbody tr th {\n",
       "        vertical-align: top;\n",
       "    }\n",
       "\n",
       "    .dataframe thead th {\n",
       "        text-align: right;\n",
       "    }\n",
       "</style>\n",
       "<table border=\"1\" class=\"dataframe\">\n",
       "  <thead>\n",
       "    <tr style=\"text-align: right;\">\n",
       "      <th></th>\n",
       "      <th>Unnamed: 0</th>\n",
       "      <th>title</th>\n",
       "      <th>score</th>\n",
       "      <th>id</th>\n",
       "      <th>subreddit</th>\n",
       "      <th>url</th>\n",
       "      <th>num_comments</th>\n",
       "      <th>body</th>\n",
       "      <th>created</th>\n",
       "    </tr>\n",
       "  </thead>\n",
       "  <tbody>\n",
       "    <tr>\n",
       "      <th>0</th>\n",
       "      <td>False</td>\n",
       "      <td>False</td>\n",
       "      <td>False</td>\n",
       "      <td>False</td>\n",
       "      <td>False</td>\n",
       "      <td>False</td>\n",
       "      <td>False</td>\n",
       "      <td>True</td>\n",
       "      <td>False</td>\n",
       "    </tr>\n",
       "    <tr>\n",
       "      <th>1</th>\n",
       "      <td>False</td>\n",
       "      <td>False</td>\n",
       "      <td>False</td>\n",
       "      <td>False</td>\n",
       "      <td>False</td>\n",
       "      <td>False</td>\n",
       "      <td>False</td>\n",
       "      <td>False</td>\n",
       "      <td>False</td>\n",
       "    </tr>\n",
       "    <tr>\n",
       "      <th>2</th>\n",
       "      <td>False</td>\n",
       "      <td>False</td>\n",
       "      <td>False</td>\n",
       "      <td>False</td>\n",
       "      <td>False</td>\n",
       "      <td>False</td>\n",
       "      <td>False</td>\n",
       "      <td>False</td>\n",
       "      <td>False</td>\n",
       "    </tr>\n",
       "    <tr>\n",
       "      <th>3</th>\n",
       "      <td>False</td>\n",
       "      <td>False</td>\n",
       "      <td>False</td>\n",
       "      <td>False</td>\n",
       "      <td>False</td>\n",
       "      <td>False</td>\n",
       "      <td>False</td>\n",
       "      <td>True</td>\n",
       "      <td>False</td>\n",
       "    </tr>\n",
       "    <tr>\n",
       "      <th>4</th>\n",
       "      <td>False</td>\n",
       "      <td>False</td>\n",
       "      <td>False</td>\n",
       "      <td>False</td>\n",
       "      <td>False</td>\n",
       "      <td>False</td>\n",
       "      <td>False</td>\n",
       "      <td>True</td>\n",
       "      <td>False</td>\n",
       "    </tr>\n",
       "    <tr>\n",
       "      <th>...</th>\n",
       "      <td>...</td>\n",
       "      <td>...</td>\n",
       "      <td>...</td>\n",
       "      <td>...</td>\n",
       "      <td>...</td>\n",
       "      <td>...</td>\n",
       "      <td>...</td>\n",
       "      <td>...</td>\n",
       "      <td>...</td>\n",
       "    </tr>\n",
       "    <tr>\n",
       "      <th>295</th>\n",
       "      <td>False</td>\n",
       "      <td>False</td>\n",
       "      <td>False</td>\n",
       "      <td>False</td>\n",
       "      <td>False</td>\n",
       "      <td>False</td>\n",
       "      <td>False</td>\n",
       "      <td>True</td>\n",
       "      <td>False</td>\n",
       "    </tr>\n",
       "    <tr>\n",
       "      <th>296</th>\n",
       "      <td>False</td>\n",
       "      <td>False</td>\n",
       "      <td>False</td>\n",
       "      <td>False</td>\n",
       "      <td>False</td>\n",
       "      <td>False</td>\n",
       "      <td>False</td>\n",
       "      <td>True</td>\n",
       "      <td>False</td>\n",
       "    </tr>\n",
       "    <tr>\n",
       "      <th>297</th>\n",
       "      <td>False</td>\n",
       "      <td>False</td>\n",
       "      <td>False</td>\n",
       "      <td>False</td>\n",
       "      <td>False</td>\n",
       "      <td>False</td>\n",
       "      <td>False</td>\n",
       "      <td>False</td>\n",
       "      <td>False</td>\n",
       "    </tr>\n",
       "    <tr>\n",
       "      <th>298</th>\n",
       "      <td>False</td>\n",
       "      <td>False</td>\n",
       "      <td>False</td>\n",
       "      <td>False</td>\n",
       "      <td>False</td>\n",
       "      <td>False</td>\n",
       "      <td>False</td>\n",
       "      <td>True</td>\n",
       "      <td>False</td>\n",
       "    </tr>\n",
       "    <tr>\n",
       "      <th>299</th>\n",
       "      <td>False</td>\n",
       "      <td>False</td>\n",
       "      <td>False</td>\n",
       "      <td>False</td>\n",
       "      <td>False</td>\n",
       "      <td>False</td>\n",
       "      <td>False</td>\n",
       "      <td>True</td>\n",
       "      <td>False</td>\n",
       "    </tr>\n",
       "  </tbody>\n",
       "</table>\n",
       "<p>300 rows × 9 columns</p>\n",
       "</div>"
      ],
      "text/plain": [
       "     Unnamed: 0  title  score     id  subreddit    url  num_comments   body  \\\n",
       "0         False  False  False  False      False  False         False   True   \n",
       "1         False  False  False  False      False  False         False  False   \n",
       "2         False  False  False  False      False  False         False  False   \n",
       "3         False  False  False  False      False  False         False   True   \n",
       "4         False  False  False  False      False  False         False   True   \n",
       "..          ...    ...    ...    ...        ...    ...           ...    ...   \n",
       "295       False  False  False  False      False  False         False   True   \n",
       "296       False  False  False  False      False  False         False   True   \n",
       "297       False  False  False  False      False  False         False  False   \n",
       "298       False  False  False  False      False  False         False   True   \n",
       "299       False  False  False  False      False  False         False   True   \n",
       "\n",
       "     created  \n",
       "0      False  \n",
       "1      False  \n",
       "2      False  \n",
       "3      False  \n",
       "4      False  \n",
       "..       ...  \n",
       "295    False  \n",
       "296    False  \n",
       "297    False  \n",
       "298    False  \n",
       "299    False  \n",
       "\n",
       "[300 rows x 9 columns]"
      ]
     },
     "execution_count": 35,
     "metadata": {},
     "output_type": "execute_result"
    }
   ],
   "source": [
    "pd.isnull(df)"
   ]
  },
  {
   "cell_type": "markdown",
   "id": "0727dfc3",
   "metadata": {},
   "source": [
    "Check missing values in a DataFrame: pandas' isnull() function checks for\n",
    "the existence of null values and returns True or False, where True is for null\n",
    "and False is for not-null values. The sum() function will sum all the True\n",
    "values and returns the count of missing values. We have tried two ways to count\n",
    "the missing values; both show the same output:\n",
    "# Count missing values in DataFrame\n",
    "pd.isnull(df).sum()\n",
    "The following is the second method:\n",
    "df.isnull().sum()"
   ]
  },
  {
   "cell_type": "markdown",
   "id": "b52604da",
   "metadata": {},
   "source": [
    "Drop missing values: A very naive approach to deal with missing values is to\n",
    "drop them for analysis purposes. pandas has the dropna() function to drop or\n",
    "delete such observations from the DataFrame. Here, the inplace=True attribute\n",
    "makes the changes in the original DataFrame:\n",
    "# Drop all the missing values\n",
    "df.dropna(inplace=True)\n",
    "df.info()"
   ]
  },
  {
   "cell_type": "markdown",
   "id": "d414511d",
   "metadata": {},
   "source": [
    "Fill the missing values: Another approach is to fill the missing values with zero,\n",
    "mean, median, or constant values:\n",
    "# Fill missing values with 0\n",
    "df.fillna(0,inplace=True)\n",
    "df.info()"
   ]
  },
  {
   "cell_type": "markdown",
   "id": "aa608b74",
   "metadata": {},
   "source": [
    "# Creating pivot tables"
   ]
  },
  {
   "cell_type": "markdown",
   "id": "ecb49afd",
   "metadata": {},
   "source": [
    "A pivot table is a summary table. It is the most popular concept in Excel. Most data analysts\n",
    "use it as a handy tool to summarize theire results. pandas offers the pivot_table()\n",
    "function to summarize DataFrames. A DataFrame is summarized using an aggregate\n",
    "function, such as mean, min, max, or summary"
   ]
  },
  {
   "cell_type": "markdown",
   "id": "b7b8d06e",
   "metadata": {},
   "source": [
    "# Summarise dataframe using pivot table\n",
    "pd.pivot_table(purchase,values='Number', index=['Weather',],\n",
    " columns=['Food'], aggfunc=np.sum)\n"
   ]
  },
  {
   "cell_type": "markdown",
   "id": "f2ae4a70",
   "metadata": {},
   "source": [
    "# dealing with dates in pandas"
   ]
  },
  {
   "cell_type": "markdown",
   "id": "eb9eaa79",
   "metadata": {},
   "source": [
    "Create a range of dates starting from January 1, 2020, lasting for 45 days, as follows:\n",
    "pd.date_range('01-01-2000', periods=45, freq='D')\n"
   ]
  },
  {
   "cell_type": "code",
   "execution_count": 36,
   "id": "65dde993",
   "metadata": {},
   "outputs": [
    {
     "data": {
      "text/plain": [
       "DatetimeIndex(['2000-01-01', '2000-01-02', '2000-01-03', '2000-01-04',\n",
       "               '2000-01-05', '2000-01-06', '2000-01-07', '2000-01-08',\n",
       "               '2000-01-09', '2000-01-10', '2000-01-11', '2000-01-12',\n",
       "               '2000-01-13', '2000-01-14', '2000-01-15', '2000-01-16',\n",
       "               '2000-01-17', '2000-01-18', '2000-01-19', '2000-01-20',\n",
       "               '2000-01-21', '2000-01-22', '2000-01-23', '2000-01-24',\n",
       "               '2000-01-25', '2000-01-26', '2000-01-27', '2000-01-28',\n",
       "               '2000-01-29', '2000-01-30', '2000-01-31', '2000-02-01',\n",
       "               '2000-02-02', '2000-02-03', '2000-02-04', '2000-02-05',\n",
       "               '2000-02-06', '2000-02-07', '2000-02-08', '2000-02-09',\n",
       "               '2000-02-10', '2000-02-11', '2000-02-12', '2000-02-13',\n",
       "               '2000-02-14'],\n",
       "              dtype='datetime64[ns]', freq='D')"
      ]
     },
     "execution_count": 36,
     "metadata": {},
     "output_type": "execute_result"
    }
   ],
   "source": [
    " pd.date_range('01-01-2000', periods=45, freq='D')"
   ]
  },
  {
   "cell_type": "markdown",
   "id": "babea174",
   "metadata": {},
   "source": [
    "Handling an unknown format string: Unknown input format can cause value\n",
    "errors. We can handle this by using an errors parameter with coerce. coerce\n",
    "will set invalid strings to NaT:\n",
    "# Value Error\n",
    "pd.to_datetime(['20200101', 'not a date'])\n"
   ]
  },
  {
   "cell_type": "code",
   "execution_count": null,
   "id": "db9f6451",
   "metadata": {},
   "outputs": [],
   "source": []
  }
 ],
 "metadata": {
  "kernelspec": {
   "display_name": "Python 3 (ipykernel)",
   "language": "python",
   "name": "python3"
  },
  "language_info": {
   "codemirror_mode": {
    "name": "ipython",
    "version": 3
   },
   "file_extension": ".py",
   "mimetype": "text/x-python",
   "name": "python",
   "nbconvert_exporter": "python",
   "pygments_lexer": "ipython3",
   "version": "3.9.5"
  }
 },
 "nbformat": 4,
 "nbformat_minor": 5
}
